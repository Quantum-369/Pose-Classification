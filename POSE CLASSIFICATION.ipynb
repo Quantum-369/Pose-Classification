{
 "cells": [
  {
   "cell_type": "code",
   "execution_count": 1,
   "metadata": {},
   "outputs": [],
   "source": [
    "import mediapipe as mp\n",
    "import cv2\n",
    "import numpy as np"
   ]
  },
  {
   "cell_type": "code",
   "execution_count": 2,
   "metadata": {},
   "outputs": [],
   "source": [
    "mp_drawing=mp.solutions.drawing_utils\n",
    "mp_holistic=mp.solutions.holistic\n",
    "mp_pose=mp.solutions.pose"
   ]
  },
  {
   "cell_type": "markdown",
   "metadata": {},
   "source": [
    "# GET VIDEO"
   ]
  },
  {
   "cell_type": "code",
   "execution_count": 3,
   "metadata": {},
   "outputs": [],
   "source": [
    "vid_cap = cv2.VideoCapture(0)\n",
    "#add=\"http://141.215.199.212:8080/video\" # This captures video from your phone Ip webcam\n",
    "#vid_cap.open(add)\n",
    "\n",
    "# intialize holistic model\n",
    "with mp_holistic.Holistic(min_detection_confidence=0.5, min_tracking_confidence=0.5) as holistic:\n",
    "    while vid_cap.isOpened():\n",
    "        ret, frame = vid_cap.read()\n",
    "    # Recoloring our video from BGR to RGB\n",
    "        img =cv2.cvtColor(frame,cv2.COLOR_BGR2RGB)\n",
    "        #img.flags.writeable=False\n",
    "    \n",
    "    #now time for detections\n",
    "        results= holistic.process(img)\n",
    "    \n",
    "    #Recolor image from RGB to BGR for rendering\n",
    "        #img.flags.writeable=True\n",
    "        img =cv2.cvtColor(img,cv2.COLOR_RGB2BGR)\n",
    "        \n",
    "         #Render pose_connections\n",
    "        mp_drawing.draw_landmarks(img,results.pose_landmarks,mp_holistic.POSE_CONNECTIONS)\n",
    "        \n",
    "        # Face_landmarks\n",
    "        \n",
    "        mp_drawing.draw_landmarks(img, results.face_landmarks, mp_holistic.FACEMESH_TESSELATION,\n",
    "                                 mp_drawing.DrawingSpec(color=(80,80,80), thickness=1, circle_radius=1),\n",
    "                                 mp_drawing.DrawingSpec(color=(80,80,80), thickness=1, circle_radius=1)\n",
    "                                 )\n",
    "        # left_hand_connections\n",
    "        \n",
    "        mp_drawing.draw_landmarks(img,results.left_hand_landmarks,mp_holistic.HAND_CONNECTIONS)\n",
    "        \n",
    "        # right_hand_connections\n",
    "        \n",
    "        mp_drawing.draw_landmarks(img,results.right_hand_landmarks,mp_holistic.HAND_CONNECTIONS)\n",
    "        # Full screen video\n",
    "        cv2.namedWindow(\"POSE CLASSIFICATION\", cv2.WND_PROP_FULLSCREEN)\n",
    "        cv2.setWindowProperty(\"POSE CLASSIFICATION\",cv2.WND_PROP_FULLSCREEN,\n",
    "               cv2.WINDOW_FULLSCREEN)\n",
    "    \n",
    "    \n",
    "        cv2.imshow('POSE CLASSIFICATION', img)\n",
    "    \n",
    "        if cv2.waitKey(10) & 0xFF == ord('v'): # we are comparing the ascii value of LHS and RHS\n",
    "            break\n",
    "\n",
    "vid_cap.release()\n",
    "cv2.destroyAllWindows()"
   ]
  },
  {
   "cell_type": "code",
   "execution_count": null,
   "metadata": {},
   "outputs": [],
   "source": []
  },
  {
   "cell_type": "markdown",
   "metadata": {},
   "source": [
    "# Making DATA SET "
   ]
  },
  {
   "cell_type": "code",
   "execution_count": 4,
   "metadata": {},
   "outputs": [],
   "source": [
    "# Here we will store our data into csv file\n",
    "import csv\n",
    "import os"
   ]
  },
  {
   "cell_type": "code",
   "execution_count": 5,
   "metadata": {},
   "outputs": [],
   "source": [
    "# Add pose landmarks and face into one and store them into an variable\n",
    "Total_landmarks=len(results.face_landmarks.landmark)+len(results.pose_landmarks.landmark)"
   ]
  },
  {
   "cell_type": "code",
   "execution_count": 6,
   "metadata": {},
   "outputs": [
    {
     "data": {
      "text/plain": [
       "501"
      ]
     },
     "execution_count": 6,
     "metadata": {},
     "output_type": "execute_result"
    }
   ],
   "source": [
    "Total_landmarks"
   ]
  },
  {
   "cell_type": "code",
   "execution_count": 27,
   "metadata": {},
   "outputs": [],
   "source": [
    "landmarks=['pose'] #initialize variable landmark with 'pose'\n",
    "for i in range(1,Total_landmarks+1): # range starts from 1 to Total_landmarks+1\n",
    "    landmarks+=['x{}'.format(i),'y{}'.format(i),'z{}'.format(i),'v{}'.format(i) ] #used .format and for each loop the landmarks is gonna update"
   ]
  },
  {
   "cell_type": "code",
   "execution_count": 33,
   "metadata": {},
   "outputs": [
    {
     "data": {
      "text/plain": [
       "<function list.count(value, /)>"
      ]
     },
     "execution_count": 33,
     "metadata": {},
     "output_type": "execute_result"
    }
   ],
   "source": []
  },
  {
   "cell_type": "code",
   "execution_count": 8,
   "metadata": {},
   "outputs": [],
   "source": [
    "# create a csv file\n",
    "with open('pose_classification.csv',mode='w',newline='') as myfile:\n",
    "    csv_write= csv.writer(myfile, delimiter=',', quotechar='\"', quoting=csv.QUOTE_MINIMAL)\n",
    "    csv_write.writerow(landmarks) # use write row method and write all landmark keys into csv file"
   ]
  },
  {
   "cell_type": "markdown",
   "metadata": {},
   "source": [
    "\n",
    "# create poses"
   ]
  },
  {
   "cell_type": "code",
   "execution_count": 5,
   "metadata": {},
   "outputs": [],
   "source": [
    "pose_name='FEMALE WALKING'"
   ]
  },
  {
   "cell_type": "code",
   "execution_count": 6,
   "metadata": {},
   "outputs": [],
   "source": [
    "vid_cap = cv2.VideoCapture(0)\n",
    "#add=\"http://141.215.199.212:8080/video\"\n",
    "#vid_cap.open(add)\n",
    "\n",
    "# intialize holistic model\n",
    "with mp_holistic.Holistic(min_detection_confidence=0.5, min_tracking_confidence=0.5) as holistic:\n",
    "    \n",
    "    while vid_cap.isOpened():\n",
    "        ret, frame = vid_cap.read()\n",
    "    # Recoloring our video from BGR to RGB\n",
    "        img =cv2.cvtColor(frame,cv2.COLOR_BGR2RGB)\n",
    "        img.flags.writeable=False\n",
    "    \n",
    "    #now time for detections\n",
    "        results= holistic.process(img)\n",
    "    \n",
    "    #Recolor image from RGB to BGR for rendering\n",
    "        img.flags.writeable=True\n",
    "        img =cv2.cvtColor(img,cv2.COLOR_RGB2BGR)\n",
    "        \n",
    "         #Render pose_connections\n",
    "        mp_drawing.draw_landmarks(img,results.pose_landmarks,mp_holistic.POSE_CONNECTIONS)\n",
    "        \n",
    "        # Face_landmarks\n",
    "        \n",
    "        mp_drawing.draw_landmarks(img, results.face_landmarks, mp_holistic.FACEMESH_TESSELATION,\n",
    "                                 mp_drawing.DrawingSpec(color=(80,80,80), thickness=1, circle_radius=1),\n",
    "                                 mp_drawing.DrawingSpec(color=(80,80,80), thickness=1, circle_radius=1)\n",
    "                                 )\n",
    "        # left_hand_connections\n",
    "        \n",
    "        mp_drawing.draw_landmarks(img,results.left_hand_landmarks,mp_holistic.HAND_CONNECTIONS)\n",
    "        \n",
    "        # right_hand_connections\n",
    "        \n",
    "        mp_drawing.draw_landmarks(img,results.right_hand_landmarks,mp_holistic.HAND_CONNECTIONS)\n",
    "        # export landmark cordinates\n",
    "        # we write our code in try block so that we can handle any errors occured\n",
    "        try:\n",
    "            pose=results.pose_landmarks.landmark #store all results in pose variable\n",
    "            pose_row= list(np.array([[landmark.x,landmark.y,landmark.z,landmark.visibility]for landmark in pose]).flatten())\n",
    "            #we used list comprehension we are looping through each landmark in pose and storing the values in array which is named \n",
    "            #as pose_row and we flatten the vlaues so higher dimensions will get reduced to single dimension\n",
    "        \n",
    "            face=results.face_landmarks.landmark\n",
    "            face_row= list(np.array([[landmark.x,landmark.y,landmark.z,landmark.visibility]for landmark in face]).flatten())\n",
    "            \n",
    "            # then we will combine pose_row and face_row into one big row\n",
    "            big_row=pose_row+face_row\n",
    "            # Append pose_name to big_row\n",
    "            big_row.insert(0,pose_name)\n",
    "            # export the data into csv\n",
    "            \n",
    "            with open('pose_classification.csv',mode='a',newline='') as myfile:\n",
    "                csv_write= csv.writer(myfile, delimiter=',', quotechar='\"', quoting=csv.QUOTE_MINIMAL)\n",
    "                csv_write.writerow(big_row)\n",
    "            \n",
    "        except:\n",
    "            pass\n",
    "         # Full screen video\n",
    "        cv2.namedWindow(\"POSE CLASSIFICATION\", cv2.WND_PROP_FULLSCREEN)\n",
    "        cv2.setWindowProperty(\"POSE CLASSIFICATION\",cv2.WND_PROP_FULLSCREEN,\n",
    "               cv2.WINDOW_FULLSCREEN)\n",
    "    \n",
    "    \n",
    "        cv2.imshow('POSE CLASSIFICATION', img)\n",
    "    \n",
    "        if cv2.waitKey(10) & 0xFF == ord('v'):\n",
    "            break\n",
    "vid_cap.release()\n",
    "cv2.destroyAllWindows()"
   ]
  },
  {
   "cell_type": "markdown",
   "metadata": {},
   "source": [
    "# Train Model"
   ]
  },
  {
   "cell_type": "code",
   "execution_count": 7,
   "metadata": {},
   "outputs": [],
   "source": [
    "# Reading poses completed, Now it's time to train the model.\n",
    "import pandas as pd\n",
    "from sklearn.model_selection import train_test_split"
   ]
  },
  {
   "cell_type": "code",
   "execution_count": 8,
   "metadata": {},
   "outputs": [],
   "source": [
    "df=pd.read_csv('pose_classification.csv')"
   ]
  },
  {
   "cell_type": "code",
   "execution_count": 9,
   "metadata": {},
   "outputs": [
    {
     "data": {
      "text/html": [
       "<div>\n",
       "<style scoped>\n",
       "    .dataframe tbody tr th:only-of-type {\n",
       "        vertical-align: middle;\n",
       "    }\n",
       "\n",
       "    .dataframe tbody tr th {\n",
       "        vertical-align: top;\n",
       "    }\n",
       "\n",
       "    .dataframe thead th {\n",
       "        text-align: right;\n",
       "    }\n",
       "</style>\n",
       "<table border=\"1\" class=\"dataframe\">\n",
       "  <thead>\n",
       "    <tr style=\"text-align: right;\">\n",
       "      <th></th>\n",
       "      <th>pose</th>\n",
       "      <th>x1</th>\n",
       "      <th>y1</th>\n",
       "      <th>z1</th>\n",
       "      <th>v1</th>\n",
       "      <th>x2</th>\n",
       "      <th>y2</th>\n",
       "      <th>z2</th>\n",
       "      <th>v2</th>\n",
       "      <th>x3</th>\n",
       "      <th>...</th>\n",
       "      <th>z499</th>\n",
       "      <th>v499</th>\n",
       "      <th>x500</th>\n",
       "      <th>y500</th>\n",
       "      <th>z500</th>\n",
       "      <th>v500</th>\n",
       "      <th>x501</th>\n",
       "      <th>y501</th>\n",
       "      <th>z501</th>\n",
       "      <th>v501</th>\n",
       "    </tr>\n",
       "  </thead>\n",
       "  <tbody>\n",
       "    <tr>\n",
       "      <th>1421</th>\n",
       "      <td>FEMALE WALKING</td>\n",
       "      <td>0.411650</td>\n",
       "      <td>0.204358</td>\n",
       "      <td>-0.615105</td>\n",
       "      <td>0.999975</td>\n",
       "      <td>0.421246</td>\n",
       "      <td>0.187265</td>\n",
       "      <td>-0.587629</td>\n",
       "      <td>0.999944</td>\n",
       "      <td>0.426582</td>\n",
       "      <td>...</td>\n",
       "      <td>0.001649</td>\n",
       "      <td>0.0</td>\n",
       "      <td>0.431464</td>\n",
       "      <td>0.184212</td>\n",
       "      <td>0.007483</td>\n",
       "      <td>0.0</td>\n",
       "      <td>0.433434</td>\n",
       "      <td>0.182367</td>\n",
       "      <td>0.007749</td>\n",
       "      <td>0.0</td>\n",
       "    </tr>\n",
       "    <tr>\n",
       "      <th>1422</th>\n",
       "      <td>FEMALE WALKING</td>\n",
       "      <td>0.413907</td>\n",
       "      <td>0.137652</td>\n",
       "      <td>-0.679856</td>\n",
       "      <td>0.999975</td>\n",
       "      <td>0.423829</td>\n",
       "      <td>0.121328</td>\n",
       "      <td>-0.649525</td>\n",
       "      <td>0.999944</td>\n",
       "      <td>0.430040</td>\n",
       "      <td>...</td>\n",
       "      <td>0.002590</td>\n",
       "      <td>0.0</td>\n",
       "      <td>0.435672</td>\n",
       "      <td>0.110406</td>\n",
       "      <td>0.010490</td>\n",
       "      <td>0.0</td>\n",
       "      <td>0.437737</td>\n",
       "      <td>0.108070</td>\n",
       "      <td>0.010939</td>\n",
       "      <td>0.0</td>\n",
       "    </tr>\n",
       "    <tr>\n",
       "      <th>1423</th>\n",
       "      <td>FEMALE WALKING</td>\n",
       "      <td>0.424998</td>\n",
       "      <td>0.092714</td>\n",
       "      <td>-0.672697</td>\n",
       "      <td>0.999975</td>\n",
       "      <td>0.436390</td>\n",
       "      <td>0.073215</td>\n",
       "      <td>-0.638325</td>\n",
       "      <td>0.999945</td>\n",
       "      <td>0.444069</td>\n",
       "      <td>...</td>\n",
       "      <td>0.003318</td>\n",
       "      <td>0.0</td>\n",
       "      <td>0.451814</td>\n",
       "      <td>0.065803</td>\n",
       "      <td>0.011104</td>\n",
       "      <td>0.0</td>\n",
       "      <td>0.453970</td>\n",
       "      <td>0.063449</td>\n",
       "      <td>0.011508</td>\n",
       "      <td>0.0</td>\n",
       "    </tr>\n",
       "    <tr>\n",
       "      <th>1424</th>\n",
       "      <td>FEMALE WALKING</td>\n",
       "      <td>0.437818</td>\n",
       "      <td>0.072429</td>\n",
       "      <td>-0.653112</td>\n",
       "      <td>0.999975</td>\n",
       "      <td>0.450462</td>\n",
       "      <td>0.052244</td>\n",
       "      <td>-0.615152</td>\n",
       "      <td>0.999945</td>\n",
       "      <td>0.458894</td>\n",
       "      <td>...</td>\n",
       "      <td>0.004458</td>\n",
       "      <td>0.0</td>\n",
       "      <td>0.462225</td>\n",
       "      <td>0.046308</td>\n",
       "      <td>0.013237</td>\n",
       "      <td>0.0</td>\n",
       "      <td>0.464560</td>\n",
       "      <td>0.043746</td>\n",
       "      <td>0.013734</td>\n",
       "      <td>0.0</td>\n",
       "    </tr>\n",
       "    <tr>\n",
       "      <th>1425</th>\n",
       "      <td>FEMALE WALKING</td>\n",
       "      <td>0.460798</td>\n",
       "      <td>0.043034</td>\n",
       "      <td>-0.685612</td>\n",
       "      <td>0.999975</td>\n",
       "      <td>0.474764</td>\n",
       "      <td>0.023039</td>\n",
       "      <td>-0.647377</td>\n",
       "      <td>0.999945</td>\n",
       "      <td>0.483668</td>\n",
       "      <td>...</td>\n",
       "      <td>0.002616</td>\n",
       "      <td>0.0</td>\n",
       "      <td>0.489996</td>\n",
       "      <td>0.005623</td>\n",
       "      <td>0.011292</td>\n",
       "      <td>0.0</td>\n",
       "      <td>0.492683</td>\n",
       "      <td>0.001732</td>\n",
       "      <td>0.011792</td>\n",
       "      <td>0.0</td>\n",
       "    </tr>\n",
       "  </tbody>\n",
       "</table>\n",
       "<p>5 rows × 2005 columns</p>\n",
       "</div>"
      ],
      "text/plain": [
       "                pose        x1        y1        z1        v1        x2  \\\n",
       "1421  FEMALE WALKING  0.411650  0.204358 -0.615105  0.999975  0.421246   \n",
       "1422  FEMALE WALKING  0.413907  0.137652 -0.679856  0.999975  0.423829   \n",
       "1423  FEMALE WALKING  0.424998  0.092714 -0.672697  0.999975  0.436390   \n",
       "1424  FEMALE WALKING  0.437818  0.072429 -0.653112  0.999975  0.450462   \n",
       "1425  FEMALE WALKING  0.460798  0.043034 -0.685612  0.999975  0.474764   \n",
       "\n",
       "            y2        z2        v2        x3  ...      z499  v499      x500  \\\n",
       "1421  0.187265 -0.587629  0.999944  0.426582  ...  0.001649   0.0  0.431464   \n",
       "1422  0.121328 -0.649525  0.999944  0.430040  ...  0.002590   0.0  0.435672   \n",
       "1423  0.073215 -0.638325  0.999945  0.444069  ...  0.003318   0.0  0.451814   \n",
       "1424  0.052244 -0.615152  0.999945  0.458894  ...  0.004458   0.0  0.462225   \n",
       "1425  0.023039 -0.647377  0.999945  0.483668  ...  0.002616   0.0  0.489996   \n",
       "\n",
       "          y500      z500  v500      x501      y501      z501  v501  \n",
       "1421  0.184212  0.007483   0.0  0.433434  0.182367  0.007749   0.0  \n",
       "1422  0.110406  0.010490   0.0  0.437737  0.108070  0.010939   0.0  \n",
       "1423  0.065803  0.011104   0.0  0.453970  0.063449  0.011508   0.0  \n",
       "1424  0.046308  0.013237   0.0  0.464560  0.043746  0.013734   0.0  \n",
       "1425  0.005623  0.011292   0.0  0.492683  0.001732  0.011792   0.0  \n",
       "\n",
       "[5 rows x 2005 columns]"
      ]
     },
     "execution_count": 9,
     "metadata": {},
     "output_type": "execute_result"
    }
   ],
   "source": [
    "df.tail()"
   ]
  },
  {
   "cell_type": "code",
   "execution_count": 10,
   "metadata": {},
   "outputs": [
    {
     "data": {
      "text/html": [
       "<div>\n",
       "<style scoped>\n",
       "    .dataframe tbody tr th:only-of-type {\n",
       "        vertical-align: middle;\n",
       "    }\n",
       "\n",
       "    .dataframe tbody tr th {\n",
       "        vertical-align: top;\n",
       "    }\n",
       "\n",
       "    .dataframe thead th {\n",
       "        text-align: right;\n",
       "    }\n",
       "</style>\n",
       "<table border=\"1\" class=\"dataframe\">\n",
       "  <thead>\n",
       "    <tr style=\"text-align: right;\">\n",
       "      <th></th>\n",
       "      <th>pose</th>\n",
       "      <th>x1</th>\n",
       "      <th>y1</th>\n",
       "      <th>z1</th>\n",
       "      <th>v1</th>\n",
       "      <th>x2</th>\n",
       "      <th>y2</th>\n",
       "      <th>z2</th>\n",
       "      <th>v2</th>\n",
       "      <th>x3</th>\n",
       "      <th>...</th>\n",
       "      <th>z499</th>\n",
       "      <th>v499</th>\n",
       "      <th>x500</th>\n",
       "      <th>y500</th>\n",
       "      <th>z500</th>\n",
       "      <th>v500</th>\n",
       "      <th>x501</th>\n",
       "      <th>y501</th>\n",
       "      <th>z501</th>\n",
       "      <th>v501</th>\n",
       "    </tr>\n",
       "  </thead>\n",
       "  <tbody>\n",
       "    <tr>\n",
       "      <th>1182</th>\n",
       "      <td>FEMALE WALKING</td>\n",
       "      <td>0.635422</td>\n",
       "      <td>0.379353</td>\n",
       "      <td>-0.303283</td>\n",
       "      <td>0.999072</td>\n",
       "      <td>0.640489</td>\n",
       "      <td>0.369832</td>\n",
       "      <td>-0.289666</td>\n",
       "      <td>0.997364</td>\n",
       "      <td>0.643598</td>\n",
       "      <td>...</td>\n",
       "      <td>0.000540</td>\n",
       "      <td>0.0</td>\n",
       "      <td>0.647046</td>\n",
       "      <td>0.371062</td>\n",
       "      <td>0.003187</td>\n",
       "      <td>0.0</td>\n",
       "      <td>0.647889</td>\n",
       "      <td>0.369979</td>\n",
       "      <td>0.003258</td>\n",
       "      <td>0.0</td>\n",
       "    </tr>\n",
       "    <tr>\n",
       "      <th>1183</th>\n",
       "      <td>FEMALE WALKING</td>\n",
       "      <td>0.635884</td>\n",
       "      <td>0.381100</td>\n",
       "      <td>-0.335409</td>\n",
       "      <td>0.999153</td>\n",
       "      <td>0.641036</td>\n",
       "      <td>0.371626</td>\n",
       "      <td>-0.320672</td>\n",
       "      <td>0.997600</td>\n",
       "      <td>0.644130</td>\n",
       "      <td>...</td>\n",
       "      <td>0.000079</td>\n",
       "      <td>0.0</td>\n",
       "      <td>0.648565</td>\n",
       "      <td>0.370164</td>\n",
       "      <td>0.002963</td>\n",
       "      <td>0.0</td>\n",
       "      <td>0.649383</td>\n",
       "      <td>0.369012</td>\n",
       "      <td>0.003050</td>\n",
       "      <td>0.0</td>\n",
       "    </tr>\n",
       "    <tr>\n",
       "      <th>1184</th>\n",
       "      <td>FEMALE WALKING</td>\n",
       "      <td>0.635765</td>\n",
       "      <td>0.381502</td>\n",
       "      <td>-0.384001</td>\n",
       "      <td>0.999231</td>\n",
       "      <td>0.640910</td>\n",
       "      <td>0.371879</td>\n",
       "      <td>-0.368196</td>\n",
       "      <td>0.997824</td>\n",
       "      <td>0.643944</td>\n",
       "      <td>...</td>\n",
       "      <td>0.000029</td>\n",
       "      <td>0.0</td>\n",
       "      <td>0.648131</td>\n",
       "      <td>0.369971</td>\n",
       "      <td>0.003347</td>\n",
       "      <td>0.0</td>\n",
       "      <td>0.648943</td>\n",
       "      <td>0.368993</td>\n",
       "      <td>0.003457</td>\n",
       "      <td>0.0</td>\n",
       "    </tr>\n",
       "    <tr>\n",
       "      <th>1185</th>\n",
       "      <td>FEMALE WALKING</td>\n",
       "      <td>0.635763</td>\n",
       "      <td>0.381861</td>\n",
       "      <td>-0.353376</td>\n",
       "      <td>0.999298</td>\n",
       "      <td>0.640861</td>\n",
       "      <td>0.372025</td>\n",
       "      <td>-0.338153</td>\n",
       "      <td>0.998021</td>\n",
       "      <td>0.643859</td>\n",
       "      <td>...</td>\n",
       "      <td>0.000240</td>\n",
       "      <td>0.0</td>\n",
       "      <td>0.647001</td>\n",
       "      <td>0.370465</td>\n",
       "      <td>0.003205</td>\n",
       "      <td>0.0</td>\n",
       "      <td>0.647799</td>\n",
       "      <td>0.369569</td>\n",
       "      <td>0.003301</td>\n",
       "      <td>0.0</td>\n",
       "    </tr>\n",
       "    <tr>\n",
       "      <th>1186</th>\n",
       "      <td>FEMALE WALKING</td>\n",
       "      <td>0.635685</td>\n",
       "      <td>0.381565</td>\n",
       "      <td>-0.345134</td>\n",
       "      <td>0.999360</td>\n",
       "      <td>0.640413</td>\n",
       "      <td>0.371969</td>\n",
       "      <td>-0.329741</td>\n",
       "      <td>0.998199</td>\n",
       "      <td>0.643298</td>\n",
       "      <td>...</td>\n",
       "      <td>0.000297</td>\n",
       "      <td>0.0</td>\n",
       "      <td>0.646462</td>\n",
       "      <td>0.370877</td>\n",
       "      <td>0.003584</td>\n",
       "      <td>0.0</td>\n",
       "      <td>0.647258</td>\n",
       "      <td>0.369915</td>\n",
       "      <td>0.003722</td>\n",
       "      <td>0.0</td>\n",
       "    </tr>\n",
       "    <tr>\n",
       "      <th>...</th>\n",
       "      <td>...</td>\n",
       "      <td>...</td>\n",
       "      <td>...</td>\n",
       "      <td>...</td>\n",
       "      <td>...</td>\n",
       "      <td>...</td>\n",
       "      <td>...</td>\n",
       "      <td>...</td>\n",
       "      <td>...</td>\n",
       "      <td>...</td>\n",
       "      <td>...</td>\n",
       "      <td>...</td>\n",
       "      <td>...</td>\n",
       "      <td>...</td>\n",
       "      <td>...</td>\n",
       "      <td>...</td>\n",
       "      <td>...</td>\n",
       "      <td>...</td>\n",
       "      <td>...</td>\n",
       "      <td>...</td>\n",
       "      <td>...</td>\n",
       "    </tr>\n",
       "    <tr>\n",
       "      <th>1421</th>\n",
       "      <td>FEMALE WALKING</td>\n",
       "      <td>0.411650</td>\n",
       "      <td>0.204358</td>\n",
       "      <td>-0.615105</td>\n",
       "      <td>0.999975</td>\n",
       "      <td>0.421246</td>\n",
       "      <td>0.187265</td>\n",
       "      <td>-0.587629</td>\n",
       "      <td>0.999944</td>\n",
       "      <td>0.426582</td>\n",
       "      <td>...</td>\n",
       "      <td>0.001649</td>\n",
       "      <td>0.0</td>\n",
       "      <td>0.431464</td>\n",
       "      <td>0.184212</td>\n",
       "      <td>0.007483</td>\n",
       "      <td>0.0</td>\n",
       "      <td>0.433434</td>\n",
       "      <td>0.182367</td>\n",
       "      <td>0.007749</td>\n",
       "      <td>0.0</td>\n",
       "    </tr>\n",
       "    <tr>\n",
       "      <th>1422</th>\n",
       "      <td>FEMALE WALKING</td>\n",
       "      <td>0.413907</td>\n",
       "      <td>0.137652</td>\n",
       "      <td>-0.679856</td>\n",
       "      <td>0.999975</td>\n",
       "      <td>0.423829</td>\n",
       "      <td>0.121328</td>\n",
       "      <td>-0.649525</td>\n",
       "      <td>0.999944</td>\n",
       "      <td>0.430040</td>\n",
       "      <td>...</td>\n",
       "      <td>0.002590</td>\n",
       "      <td>0.0</td>\n",
       "      <td>0.435672</td>\n",
       "      <td>0.110406</td>\n",
       "      <td>0.010490</td>\n",
       "      <td>0.0</td>\n",
       "      <td>0.437737</td>\n",
       "      <td>0.108070</td>\n",
       "      <td>0.010939</td>\n",
       "      <td>0.0</td>\n",
       "    </tr>\n",
       "    <tr>\n",
       "      <th>1423</th>\n",
       "      <td>FEMALE WALKING</td>\n",
       "      <td>0.424998</td>\n",
       "      <td>0.092714</td>\n",
       "      <td>-0.672697</td>\n",
       "      <td>0.999975</td>\n",
       "      <td>0.436390</td>\n",
       "      <td>0.073215</td>\n",
       "      <td>-0.638325</td>\n",
       "      <td>0.999945</td>\n",
       "      <td>0.444069</td>\n",
       "      <td>...</td>\n",
       "      <td>0.003318</td>\n",
       "      <td>0.0</td>\n",
       "      <td>0.451814</td>\n",
       "      <td>0.065803</td>\n",
       "      <td>0.011104</td>\n",
       "      <td>0.0</td>\n",
       "      <td>0.453970</td>\n",
       "      <td>0.063449</td>\n",
       "      <td>0.011508</td>\n",
       "      <td>0.0</td>\n",
       "    </tr>\n",
       "    <tr>\n",
       "      <th>1424</th>\n",
       "      <td>FEMALE WALKING</td>\n",
       "      <td>0.437818</td>\n",
       "      <td>0.072429</td>\n",
       "      <td>-0.653112</td>\n",
       "      <td>0.999975</td>\n",
       "      <td>0.450462</td>\n",
       "      <td>0.052244</td>\n",
       "      <td>-0.615152</td>\n",
       "      <td>0.999945</td>\n",
       "      <td>0.458894</td>\n",
       "      <td>...</td>\n",
       "      <td>0.004458</td>\n",
       "      <td>0.0</td>\n",
       "      <td>0.462225</td>\n",
       "      <td>0.046308</td>\n",
       "      <td>0.013237</td>\n",
       "      <td>0.0</td>\n",
       "      <td>0.464560</td>\n",
       "      <td>0.043746</td>\n",
       "      <td>0.013734</td>\n",
       "      <td>0.0</td>\n",
       "    </tr>\n",
       "    <tr>\n",
       "      <th>1425</th>\n",
       "      <td>FEMALE WALKING</td>\n",
       "      <td>0.460798</td>\n",
       "      <td>0.043034</td>\n",
       "      <td>-0.685612</td>\n",
       "      <td>0.999975</td>\n",
       "      <td>0.474764</td>\n",
       "      <td>0.023039</td>\n",
       "      <td>-0.647377</td>\n",
       "      <td>0.999945</td>\n",
       "      <td>0.483668</td>\n",
       "      <td>...</td>\n",
       "      <td>0.002616</td>\n",
       "      <td>0.0</td>\n",
       "      <td>0.489996</td>\n",
       "      <td>0.005623</td>\n",
       "      <td>0.011292</td>\n",
       "      <td>0.0</td>\n",
       "      <td>0.492683</td>\n",
       "      <td>0.001732</td>\n",
       "      <td>0.011792</td>\n",
       "      <td>0.0</td>\n",
       "    </tr>\n",
       "  </tbody>\n",
       "</table>\n",
       "<p>244 rows × 2005 columns</p>\n",
       "</div>"
      ],
      "text/plain": [
       "                pose        x1        y1        z1        v1        x2  \\\n",
       "1182  FEMALE WALKING  0.635422  0.379353 -0.303283  0.999072  0.640489   \n",
       "1183  FEMALE WALKING  0.635884  0.381100 -0.335409  0.999153  0.641036   \n",
       "1184  FEMALE WALKING  0.635765  0.381502 -0.384001  0.999231  0.640910   \n",
       "1185  FEMALE WALKING  0.635763  0.381861 -0.353376  0.999298  0.640861   \n",
       "1186  FEMALE WALKING  0.635685  0.381565 -0.345134  0.999360  0.640413   \n",
       "...              ...       ...       ...       ...       ...       ...   \n",
       "1421  FEMALE WALKING  0.411650  0.204358 -0.615105  0.999975  0.421246   \n",
       "1422  FEMALE WALKING  0.413907  0.137652 -0.679856  0.999975  0.423829   \n",
       "1423  FEMALE WALKING  0.424998  0.092714 -0.672697  0.999975  0.436390   \n",
       "1424  FEMALE WALKING  0.437818  0.072429 -0.653112  0.999975  0.450462   \n",
       "1425  FEMALE WALKING  0.460798  0.043034 -0.685612  0.999975  0.474764   \n",
       "\n",
       "            y2        z2        v2        x3  ...      z499  v499      x500  \\\n",
       "1182  0.369832 -0.289666  0.997364  0.643598  ...  0.000540   0.0  0.647046   \n",
       "1183  0.371626 -0.320672  0.997600  0.644130  ...  0.000079   0.0  0.648565   \n",
       "1184  0.371879 -0.368196  0.997824  0.643944  ...  0.000029   0.0  0.648131   \n",
       "1185  0.372025 -0.338153  0.998021  0.643859  ...  0.000240   0.0  0.647001   \n",
       "1186  0.371969 -0.329741  0.998199  0.643298  ...  0.000297   0.0  0.646462   \n",
       "...        ...       ...       ...       ...  ...       ...   ...       ...   \n",
       "1421  0.187265 -0.587629  0.999944  0.426582  ...  0.001649   0.0  0.431464   \n",
       "1422  0.121328 -0.649525  0.999944  0.430040  ...  0.002590   0.0  0.435672   \n",
       "1423  0.073215 -0.638325  0.999945  0.444069  ...  0.003318   0.0  0.451814   \n",
       "1424  0.052244 -0.615152  0.999945  0.458894  ...  0.004458   0.0  0.462225   \n",
       "1425  0.023039 -0.647377  0.999945  0.483668  ...  0.002616   0.0  0.489996   \n",
       "\n",
       "          y500      z500  v500      x501      y501      z501  v501  \n",
       "1182  0.371062  0.003187   0.0  0.647889  0.369979  0.003258   0.0  \n",
       "1183  0.370164  0.002963   0.0  0.649383  0.369012  0.003050   0.0  \n",
       "1184  0.369971  0.003347   0.0  0.648943  0.368993  0.003457   0.0  \n",
       "1185  0.370465  0.003205   0.0  0.647799  0.369569  0.003301   0.0  \n",
       "1186  0.370877  0.003584   0.0  0.647258  0.369915  0.003722   0.0  \n",
       "...        ...       ...   ...       ...       ...       ...   ...  \n",
       "1421  0.184212  0.007483   0.0  0.433434  0.182367  0.007749   0.0  \n",
       "1422  0.110406  0.010490   0.0  0.437737  0.108070  0.010939   0.0  \n",
       "1423  0.065803  0.011104   0.0  0.453970  0.063449  0.011508   0.0  \n",
       "1424  0.046308  0.013237   0.0  0.464560  0.043746  0.013734   0.0  \n",
       "1425  0.005623  0.011292   0.0  0.492683  0.001732  0.011792   0.0  \n",
       "\n",
       "[244 rows x 2005 columns]"
      ]
     },
     "execution_count": 10,
     "metadata": {},
     "output_type": "execute_result"
    }
   ],
   "source": [
    "df[df['pose']=='FEMALE WALKING']"
   ]
  },
  {
   "cell_type": "code",
   "execution_count": 11,
   "metadata": {},
   "outputs": [
    {
     "name": "stdout",
     "output_type": "stream",
     "text": [
      "            x1        y1        z1        v1        x2        y2        z2  \\\n",
      "x1    1.000000  0.402545 -0.234796 -0.174993  0.993386  0.391026 -0.230743   \n",
      "y1    0.402545  1.000000 -0.351788 -0.260452  0.434465  0.987139 -0.348192   \n",
      "z1   -0.234796 -0.351788  1.000000  0.463728 -0.295818 -0.225035  0.998912   \n",
      "v1   -0.174993 -0.260452  0.463728  1.000000 -0.188819 -0.236753  0.455375   \n",
      "x2    0.993386  0.434465 -0.295818 -0.188819  1.000000  0.412571 -0.291923   \n",
      "...        ...       ...       ...       ...       ...       ...       ...   \n",
      "v500       NaN       NaN       NaN       NaN       NaN       NaN       NaN   \n",
      "x501  0.967549  0.452271 -0.416225 -0.214491  0.983433  0.409576 -0.411967   \n",
      "y501  0.395522  0.983895 -0.233120 -0.237075  0.416698  0.995023 -0.228726   \n",
      "z501  0.217482  0.088201 -0.509962 -0.328342  0.209444  0.048601 -0.487105   \n",
      "v501       NaN       NaN       NaN       NaN       NaN       NaN       NaN   \n",
      "\n",
      "            v2        x3        y3  ...      z499  v499      x500      y500  \\\n",
      "x1   -0.173880  0.986290  0.393515  ... -0.011817   NaN  0.971695  0.396449   \n",
      "y1   -0.254704  0.448346  0.986352  ... -0.173926   NaN  0.446703  0.986289   \n",
      "z1    0.511778 -0.337942 -0.227284  ... -0.090348   NaN -0.398004 -0.247066   \n",
      "v1    0.971932 -0.202195 -0.242594  ... -0.284691   NaN -0.206736 -0.241252   \n",
      "x2   -0.188946  0.998410  0.415188  ... -0.033540   NaN  0.985696  0.418457   \n",
      "...        ...       ...       ...  ...       ...   ...       ...       ...   \n",
      "v500       NaN       NaN       NaN  ...       NaN   NaN       NaN       NaN   \n",
      "x501 -0.223099  0.988949  0.411821  ... -0.026676   NaN  0.999718  0.422344   \n",
      "y501 -0.224164  0.423826  0.995125  ... -0.157077   NaN  0.415453  0.999835   \n",
      "z501 -0.366275  0.221950  0.057352  ...  0.740212   NaN  0.288358  0.068261   \n",
      "v501       NaN       NaN       NaN  ...       NaN   NaN       NaN       NaN   \n",
      "\n",
      "          z500  v500      x501      y501      z501  v501  \n",
      "x1    0.216903   NaN  0.967549  0.395522  0.217482   NaN  \n",
      "y1    0.090249   NaN  0.452271  0.983895  0.088201   NaN  \n",
      "z1   -0.515756   NaN -0.416225 -0.233120 -0.509962   NaN  \n",
      "v1   -0.334037   NaN -0.214491 -0.237075 -0.328342   NaN  \n",
      "x2    0.209882   NaN  0.983433  0.416698  0.209444   NaN  \n",
      "...        ...   ...       ...       ...       ...   ...  \n",
      "v500       NaN   NaN       NaN       NaN       NaN   NaN  \n",
      "x501  0.295836   NaN  1.000000  0.418230  0.295227   NaN  \n",
      "y501  0.063126   NaN  0.418230  1.000000  0.062303   NaN  \n",
      "z501  0.999859   NaN  0.295227  0.062303  1.000000   NaN  \n",
      "v501       NaN   NaN       NaN       NaN       NaN   NaN  \n",
      "\n",
      "[2004 rows x 2004 columns]\n"
     ]
    }
   ],
   "source": [
    "cor=df.corr()\n",
    "print(cor)"
   ]
  },
  {
   "cell_type": "code",
   "execution_count": 12,
   "metadata": {},
   "outputs": [],
   "source": [
    "x=df.drop('pose',axis=1)# features\n",
    "y=df['pose']#target"
   ]
  },
  {
   "cell_type": "code",
   "execution_count": 13,
   "metadata": {},
   "outputs": [
    {
     "data": {
      "text/html": [
       "<div>\n",
       "<style scoped>\n",
       "    .dataframe tbody tr th:only-of-type {\n",
       "        vertical-align: middle;\n",
       "    }\n",
       "\n",
       "    .dataframe tbody tr th {\n",
       "        vertical-align: top;\n",
       "    }\n",
       "\n",
       "    .dataframe thead th {\n",
       "        text-align: right;\n",
       "    }\n",
       "</style>\n",
       "<table border=\"1\" class=\"dataframe\">\n",
       "  <thead>\n",
       "    <tr style=\"text-align: right;\">\n",
       "      <th></th>\n",
       "      <th>x1</th>\n",
       "      <th>y1</th>\n",
       "      <th>z1</th>\n",
       "      <th>v1</th>\n",
       "      <th>x2</th>\n",
       "      <th>y2</th>\n",
       "      <th>z2</th>\n",
       "      <th>v2</th>\n",
       "      <th>x3</th>\n",
       "      <th>y3</th>\n",
       "      <th>...</th>\n",
       "      <th>z499</th>\n",
       "      <th>v499</th>\n",
       "      <th>x500</th>\n",
       "      <th>y500</th>\n",
       "      <th>z500</th>\n",
       "      <th>v500</th>\n",
       "      <th>x501</th>\n",
       "      <th>y501</th>\n",
       "      <th>z501</th>\n",
       "      <th>v501</th>\n",
       "    </tr>\n",
       "  </thead>\n",
       "  <tbody>\n",
       "    <tr>\n",
       "      <th>0</th>\n",
       "      <td>0.631273</td>\n",
       "      <td>0.628692</td>\n",
       "      <td>-1.350329</td>\n",
       "      <td>0.998967</td>\n",
       "      <td>0.665285</td>\n",
       "      <td>0.567833</td>\n",
       "      <td>-1.284819</td>\n",
       "      <td>0.997817</td>\n",
       "      <td>0.681639</td>\n",
       "      <td>0.568513</td>\n",
       "      <td>...</td>\n",
       "      <td>-0.005595</td>\n",
       "      <td>0.0</td>\n",
       "      <td>0.692570</td>\n",
       "      <td>0.569556</td>\n",
       "      <td>0.013762</td>\n",
       "      <td>0.0</td>\n",
       "      <td>0.698108</td>\n",
       "      <td>0.565421</td>\n",
       "      <td>0.014267</td>\n",
       "      <td>0.0</td>\n",
       "    </tr>\n",
       "    <tr>\n",
       "      <th>1</th>\n",
       "      <td>0.633129</td>\n",
       "      <td>0.628914</td>\n",
       "      <td>-1.416636</td>\n",
       "      <td>0.998927</td>\n",
       "      <td>0.666680</td>\n",
       "      <td>0.567869</td>\n",
       "      <td>-1.343579</td>\n",
       "      <td>0.997793</td>\n",
       "      <td>0.682854</td>\n",
       "      <td>0.568541</td>\n",
       "      <td>...</td>\n",
       "      <td>-0.006495</td>\n",
       "      <td>0.0</td>\n",
       "      <td>0.697733</td>\n",
       "      <td>0.572038</td>\n",
       "      <td>0.013416</td>\n",
       "      <td>0.0</td>\n",
       "      <td>0.703246</td>\n",
       "      <td>0.568358</td>\n",
       "      <td>0.013900</td>\n",
       "      <td>0.0</td>\n",
       "    </tr>\n",
       "    <tr>\n",
       "      <th>2</th>\n",
       "      <td>0.634044</td>\n",
       "      <td>0.630013</td>\n",
       "      <td>-1.403789</td>\n",
       "      <td>0.998780</td>\n",
       "      <td>0.667477</td>\n",
       "      <td>0.568289</td>\n",
       "      <td>-1.332966</td>\n",
       "      <td>0.997581</td>\n",
       "      <td>0.683475</td>\n",
       "      <td>0.568892</td>\n",
       "      <td>...</td>\n",
       "      <td>-0.007551</td>\n",
       "      <td>0.0</td>\n",
       "      <td>0.698059</td>\n",
       "      <td>0.571863</td>\n",
       "      <td>0.012120</td>\n",
       "      <td>0.0</td>\n",
       "      <td>0.703581</td>\n",
       "      <td>0.568027</td>\n",
       "      <td>0.012656</td>\n",
       "      <td>0.0</td>\n",
       "    </tr>\n",
       "    <tr>\n",
       "      <th>3</th>\n",
       "      <td>0.635164</td>\n",
       "      <td>0.630636</td>\n",
       "      <td>-1.371428</td>\n",
       "      <td>0.998647</td>\n",
       "      <td>0.668275</td>\n",
       "      <td>0.568562</td>\n",
       "      <td>-1.295691</td>\n",
       "      <td>0.997435</td>\n",
       "      <td>0.684144</td>\n",
       "      <td>0.569086</td>\n",
       "      <td>...</td>\n",
       "      <td>-0.007651</td>\n",
       "      <td>0.0</td>\n",
       "      <td>0.698966</td>\n",
       "      <td>0.570066</td>\n",
       "      <td>0.011194</td>\n",
       "      <td>0.0</td>\n",
       "      <td>0.704543</td>\n",
       "      <td>0.566060</td>\n",
       "      <td>0.011639</td>\n",
       "      <td>0.0</td>\n",
       "    </tr>\n",
       "    <tr>\n",
       "      <th>4</th>\n",
       "      <td>0.635528</td>\n",
       "      <td>0.631006</td>\n",
       "      <td>-1.345409</td>\n",
       "      <td>0.998522</td>\n",
       "      <td>0.668928</td>\n",
       "      <td>0.568625</td>\n",
       "      <td>-1.270121</td>\n",
       "      <td>0.997322</td>\n",
       "      <td>0.684906</td>\n",
       "      <td>0.569130</td>\n",
       "      <td>...</td>\n",
       "      <td>-0.008152</td>\n",
       "      <td>0.0</td>\n",
       "      <td>0.698979</td>\n",
       "      <td>0.570891</td>\n",
       "      <td>0.010779</td>\n",
       "      <td>0.0</td>\n",
       "      <td>0.704520</td>\n",
       "      <td>0.567239</td>\n",
       "      <td>0.011164</td>\n",
       "      <td>0.0</td>\n",
       "    </tr>\n",
       "    <tr>\n",
       "      <th>...</th>\n",
       "      <td>...</td>\n",
       "      <td>...</td>\n",
       "      <td>...</td>\n",
       "      <td>...</td>\n",
       "      <td>...</td>\n",
       "      <td>...</td>\n",
       "      <td>...</td>\n",
       "      <td>...</td>\n",
       "      <td>...</td>\n",
       "      <td>...</td>\n",
       "      <td>...</td>\n",
       "      <td>...</td>\n",
       "      <td>...</td>\n",
       "      <td>...</td>\n",
       "      <td>...</td>\n",
       "      <td>...</td>\n",
       "      <td>...</td>\n",
       "      <td>...</td>\n",
       "      <td>...</td>\n",
       "      <td>...</td>\n",
       "      <td>...</td>\n",
       "    </tr>\n",
       "    <tr>\n",
       "      <th>1421</th>\n",
       "      <td>0.411650</td>\n",
       "      <td>0.204358</td>\n",
       "      <td>-0.615105</td>\n",
       "      <td>0.999975</td>\n",
       "      <td>0.421246</td>\n",
       "      <td>0.187265</td>\n",
       "      <td>-0.587629</td>\n",
       "      <td>0.999944</td>\n",
       "      <td>0.426582</td>\n",
       "      <td>0.188641</td>\n",
       "      <td>...</td>\n",
       "      <td>0.001649</td>\n",
       "      <td>0.0</td>\n",
       "      <td>0.431464</td>\n",
       "      <td>0.184212</td>\n",
       "      <td>0.007483</td>\n",
       "      <td>0.0</td>\n",
       "      <td>0.433434</td>\n",
       "      <td>0.182367</td>\n",
       "      <td>0.007749</td>\n",
       "      <td>0.0</td>\n",
       "    </tr>\n",
       "    <tr>\n",
       "      <th>1422</th>\n",
       "      <td>0.413907</td>\n",
       "      <td>0.137652</td>\n",
       "      <td>-0.679856</td>\n",
       "      <td>0.999975</td>\n",
       "      <td>0.423829</td>\n",
       "      <td>0.121328</td>\n",
       "      <td>-0.649525</td>\n",
       "      <td>0.999944</td>\n",
       "      <td>0.430040</td>\n",
       "      <td>0.121914</td>\n",
       "      <td>...</td>\n",
       "      <td>0.002590</td>\n",
       "      <td>0.0</td>\n",
       "      <td>0.435672</td>\n",
       "      <td>0.110406</td>\n",
       "      <td>0.010490</td>\n",
       "      <td>0.0</td>\n",
       "      <td>0.437737</td>\n",
       "      <td>0.108070</td>\n",
       "      <td>0.010939</td>\n",
       "      <td>0.0</td>\n",
       "    </tr>\n",
       "    <tr>\n",
       "      <th>1423</th>\n",
       "      <td>0.424998</td>\n",
       "      <td>0.092714</td>\n",
       "      <td>-0.672697</td>\n",
       "      <td>0.999975</td>\n",
       "      <td>0.436390</td>\n",
       "      <td>0.073215</td>\n",
       "      <td>-0.638325</td>\n",
       "      <td>0.999945</td>\n",
       "      <td>0.444069</td>\n",
       "      <td>0.074232</td>\n",
       "      <td>...</td>\n",
       "      <td>0.003318</td>\n",
       "      <td>0.0</td>\n",
       "      <td>0.451814</td>\n",
       "      <td>0.065803</td>\n",
       "      <td>0.011104</td>\n",
       "      <td>0.0</td>\n",
       "      <td>0.453970</td>\n",
       "      <td>0.063449</td>\n",
       "      <td>0.011508</td>\n",
       "      <td>0.0</td>\n",
       "    </tr>\n",
       "    <tr>\n",
       "      <th>1424</th>\n",
       "      <td>0.437818</td>\n",
       "      <td>0.072429</td>\n",
       "      <td>-0.653112</td>\n",
       "      <td>0.999975</td>\n",
       "      <td>0.450462</td>\n",
       "      <td>0.052244</td>\n",
       "      <td>-0.615152</td>\n",
       "      <td>0.999945</td>\n",
       "      <td>0.458894</td>\n",
       "      <td>0.053453</td>\n",
       "      <td>...</td>\n",
       "      <td>0.004458</td>\n",
       "      <td>0.0</td>\n",
       "      <td>0.462225</td>\n",
       "      <td>0.046308</td>\n",
       "      <td>0.013237</td>\n",
       "      <td>0.0</td>\n",
       "      <td>0.464560</td>\n",
       "      <td>0.043746</td>\n",
       "      <td>0.013734</td>\n",
       "      <td>0.0</td>\n",
       "    </tr>\n",
       "    <tr>\n",
       "      <th>1425</th>\n",
       "      <td>0.460798</td>\n",
       "      <td>0.043034</td>\n",
       "      <td>-0.685612</td>\n",
       "      <td>0.999975</td>\n",
       "      <td>0.474764</td>\n",
       "      <td>0.023039</td>\n",
       "      <td>-0.647377</td>\n",
       "      <td>0.999945</td>\n",
       "      <td>0.483668</td>\n",
       "      <td>0.025187</td>\n",
       "      <td>...</td>\n",
       "      <td>0.002616</td>\n",
       "      <td>0.0</td>\n",
       "      <td>0.489996</td>\n",
       "      <td>0.005623</td>\n",
       "      <td>0.011292</td>\n",
       "      <td>0.0</td>\n",
       "      <td>0.492683</td>\n",
       "      <td>0.001732</td>\n",
       "      <td>0.011792</td>\n",
       "      <td>0.0</td>\n",
       "    </tr>\n",
       "  </tbody>\n",
       "</table>\n",
       "<p>1426 rows × 2004 columns</p>\n",
       "</div>"
      ],
      "text/plain": [
       "            x1        y1        z1        v1        x2        y2        z2  \\\n",
       "0     0.631273  0.628692 -1.350329  0.998967  0.665285  0.567833 -1.284819   \n",
       "1     0.633129  0.628914 -1.416636  0.998927  0.666680  0.567869 -1.343579   \n",
       "2     0.634044  0.630013 -1.403789  0.998780  0.667477  0.568289 -1.332966   \n",
       "3     0.635164  0.630636 -1.371428  0.998647  0.668275  0.568562 -1.295691   \n",
       "4     0.635528  0.631006 -1.345409  0.998522  0.668928  0.568625 -1.270121   \n",
       "...        ...       ...       ...       ...       ...       ...       ...   \n",
       "1421  0.411650  0.204358 -0.615105  0.999975  0.421246  0.187265 -0.587629   \n",
       "1422  0.413907  0.137652 -0.679856  0.999975  0.423829  0.121328 -0.649525   \n",
       "1423  0.424998  0.092714 -0.672697  0.999975  0.436390  0.073215 -0.638325   \n",
       "1424  0.437818  0.072429 -0.653112  0.999975  0.450462  0.052244 -0.615152   \n",
       "1425  0.460798  0.043034 -0.685612  0.999975  0.474764  0.023039 -0.647377   \n",
       "\n",
       "            v2        x3        y3  ...      z499  v499      x500      y500  \\\n",
       "0     0.997817  0.681639  0.568513  ... -0.005595   0.0  0.692570  0.569556   \n",
       "1     0.997793  0.682854  0.568541  ... -0.006495   0.0  0.697733  0.572038   \n",
       "2     0.997581  0.683475  0.568892  ... -0.007551   0.0  0.698059  0.571863   \n",
       "3     0.997435  0.684144  0.569086  ... -0.007651   0.0  0.698966  0.570066   \n",
       "4     0.997322  0.684906  0.569130  ... -0.008152   0.0  0.698979  0.570891   \n",
       "...        ...       ...       ...  ...       ...   ...       ...       ...   \n",
       "1421  0.999944  0.426582  0.188641  ...  0.001649   0.0  0.431464  0.184212   \n",
       "1422  0.999944  0.430040  0.121914  ...  0.002590   0.0  0.435672  0.110406   \n",
       "1423  0.999945  0.444069  0.074232  ...  0.003318   0.0  0.451814  0.065803   \n",
       "1424  0.999945  0.458894  0.053453  ...  0.004458   0.0  0.462225  0.046308   \n",
       "1425  0.999945  0.483668  0.025187  ...  0.002616   0.0  0.489996  0.005623   \n",
       "\n",
       "          z500  v500      x501      y501      z501  v501  \n",
       "0     0.013762   0.0  0.698108  0.565421  0.014267   0.0  \n",
       "1     0.013416   0.0  0.703246  0.568358  0.013900   0.0  \n",
       "2     0.012120   0.0  0.703581  0.568027  0.012656   0.0  \n",
       "3     0.011194   0.0  0.704543  0.566060  0.011639   0.0  \n",
       "4     0.010779   0.0  0.704520  0.567239  0.011164   0.0  \n",
       "...        ...   ...       ...       ...       ...   ...  \n",
       "1421  0.007483   0.0  0.433434  0.182367  0.007749   0.0  \n",
       "1422  0.010490   0.0  0.437737  0.108070  0.010939   0.0  \n",
       "1423  0.011104   0.0  0.453970  0.063449  0.011508   0.0  \n",
       "1424  0.013237   0.0  0.464560  0.043746  0.013734   0.0  \n",
       "1425  0.011292   0.0  0.492683  0.001732  0.011792   0.0  \n",
       "\n",
       "[1426 rows x 2004 columns]"
      ]
     },
     "execution_count": 13,
     "metadata": {},
     "output_type": "execute_result"
    }
   ],
   "source": [
    "x"
   ]
  },
  {
   "cell_type": "code",
   "execution_count": 14,
   "metadata": {},
   "outputs": [],
   "source": [
    "x_train,x_test,y_train,y_test=train_test_split(x,y,train_size=0.8,\n",
    "    random_state=1913)"
   ]
  },
  {
   "cell_type": "code",
   "execution_count": 15,
   "metadata": {},
   "outputs": [
    {
     "data": {
      "text/plain": [
       "139             Victory\n",
       "37                Happy\n",
       "1260     FEMALE WALKING\n",
       "99              Victory\n",
       "284     Wakanda Forever\n",
       "             ...       \n",
       "1334     FEMALE WALKING\n",
       "1093        MEN WALKING\n",
       "137             Victory\n",
       "1113        MEN WALKING\n",
       "269          NT RAMARAO\n",
       "Name: pose, Length: 286, dtype: object"
      ]
     },
     "execution_count": 15,
     "metadata": {},
     "output_type": "execute_result"
    }
   ],
   "source": [
    "y_test"
   ]
  },
  {
   "cell_type": "code",
   "execution_count": 16,
   "metadata": {},
   "outputs": [],
   "source": [
    "from sklearn.pipeline import make_pipeline \n",
    "from sklearn.preprocessing import StandardScaler \n",
    "\n",
    "from sklearn.linear_model import LogisticRegression, RidgeClassifier\n",
    "from sklearn.ensemble import RandomForestClassifier, GradientBoostingClassifier"
   ]
  },
  {
   "cell_type": "code",
   "execution_count": 17,
   "metadata": {},
   "outputs": [],
   "source": [
    "pipelines = {\n",
    "    'lr':make_pipeline(StandardScaler(), LogisticRegression()),\n",
    "    'rc':make_pipeline(StandardScaler(), RidgeClassifier()),\n",
    "}"
   ]
  },
  {
   "cell_type": "code",
   "execution_count": 18,
   "metadata": {},
   "outputs": [
    {
     "name": "stderr",
     "output_type": "stream",
     "text": [
      "C:\\Users\\harsh\\.conda\\lib\\site-packages\\sklearn\\linear_model\\_logistic.py:814: ConvergenceWarning: lbfgs failed to converge (status=1):\n",
      "STOP: TOTAL NO. of ITERATIONS REACHED LIMIT.\n",
      "\n",
      "Increase the number of iterations (max_iter) or scale the data as shown in:\n",
      "    https://scikit-learn.org/stable/modules/preprocessing.html\n",
      "Please also refer to the documentation for alternative solver options:\n",
      "    https://scikit-learn.org/stable/modules/linear_model.html#logistic-regression\n",
      "  n_iter_i = _check_optimize_result(\n"
     ]
    }
   ],
   "source": [
    "fit_models = {}\n",
    "for algo, pipeline in pipelines.items():\n",
    "    model = pipeline.fit(x_train, y_train)\n",
    "    fit_models[algo] = model"
   ]
  },
  {
   "cell_type": "code",
   "execution_count": 19,
   "metadata": {},
   "outputs": [
    {
     "data": {
      "text/plain": [
       "{'lr': Pipeline(steps=[('standardscaler', StandardScaler()),\n",
       "                 ('logisticregression', LogisticRegression())]),\n",
       " 'rc': Pipeline(steps=[('standardscaler', StandardScaler()),\n",
       "                 ('ridgeclassifier', RidgeClassifier())])}"
      ]
     },
     "execution_count": 19,
     "metadata": {},
     "output_type": "execute_result"
    }
   ],
   "source": [
    "fit_models"
   ]
  },
  {
   "cell_type": "code",
   "execution_count": 20,
   "metadata": {},
   "outputs": [
    {
     "data": {
      "text/plain": [
       "array(['Victory', 'Happy', 'FEMALE WALKING', 'Victory', 'Wakanda Forever',\n",
       "       'whistling', 'FEMALE WALKING', 'whistling', 'MEN WALKING',\n",
       "       'Thinking', 'FEMALE WALKING', 'Wakanda Forever', 'Happy',\n",
       "       'Thinking', 'MALE WALKING', 'MEN WALKING', 'Super Man',\n",
       "       'Wakanda Forever', 'Wakanda Forever', 'Wakanda Forever', 'Happy',\n",
       "       'Happy', 'Victory', 'Victory', 'NT RAMARAO', 'MALE WALKING',\n",
       "       'FEMALE WALKING', 'Thinking', 'NT RAMARAO', 'Wakanda Forever',\n",
       "       'Super Man', 'whistling', 'FEMALE WALKING', 'Wakanda Forever',\n",
       "       'MEN WALKING', 'FEMALE WALKING', 'Thinking', 'MALE WALKING',\n",
       "       'MALE WALKING', 'MEN WALKING', 'MEN WALKING', 'MEN WALKING',\n",
       "       'whistling', 'FEMALE WALKING', 'MEN WALKING', 'Thinking',\n",
       "       'whistling', 'MEN WALKING', 'whistling', 'FEMALE WALKING',\n",
       "       'Wakanda Forever', 'Victory', 'MEN WALKING', 'MALE WALKING',\n",
       "       'Wakanda Forever', 'FEMALE WALKING', 'NT RAMARAO', 'Thinking',\n",
       "       'whistling', 'Victory', 'NT RAMARAO', 'whistling',\n",
       "       'Wakanda Forever', 'MALE WALKING', 'MEN WALKING', 'Thinking',\n",
       "       'MALE WALKING', 'Victory', 'Wakanda Forever', 'Happy', 'Thinking',\n",
       "       'Super Man', 'FEMALE WALKING', 'Super Man', 'NT RAMARAO',\n",
       "       'NT RAMARAO', 'MEN WALKING', 'MALE WALKING', 'Thinking',\n",
       "       'whistling', 'whistling', 'FEMALE WALKING', 'MEN WALKING',\n",
       "       'Thinking', 'FEMALE WALKING', 'Happy', 'FEMALE WALKING',\n",
       "       'whistling', 'NT RAMARAO', 'FEMALE WALKING', 'FEMALE WALKING',\n",
       "       'whistling', 'FEMALE WALKING', 'whistling', 'Happy',\n",
       "       'MALE WALKING', 'MALE WALKING', 'NT RAMARAO', 'Wakanda Forever',\n",
       "       'FEMALE WALKING', 'Victory', 'Thinking', 'FEMALE WALKING',\n",
       "       'NT RAMARAO', 'MEN WALKING', 'Victory', 'FEMALE WALKING',\n",
       "       'Thinking', 'Victory', 'Happy', 'Happy', 'whistling', 'Victory',\n",
       "       'MEN WALKING', 'Victory', 'Thinking', 'Super Man', 'MEN WALKING',\n",
       "       'MEN WALKING', 'whistling', 'Victory', 'whistling', 'Thinking',\n",
       "       'Super Man', 'Super Man', 'Thinking', 'Thinking', 'whistling',\n",
       "       'Wakanda Forever', 'MEN WALKING', 'MEN WALKING', 'Victory',\n",
       "       'Thinking', 'NT RAMARAO', 'FEMALE WALKING', 'Victory',\n",
       "       'MEN WALKING', 'FEMALE WALKING', 'Happy', 'FEMALE WALKING',\n",
       "       'Victory', 'FEMALE WALKING', 'NT RAMARAO', 'whistling',\n",
       "       'NT RAMARAO', 'Super Man', 'Victory', 'Victory', 'whistling',\n",
       "       'Thinking', 'FEMALE WALKING', 'Wakanda Forever', 'Victory',\n",
       "       'whistling', 'Happy', 'Thinking', 'Happy', 'whistling',\n",
       "       'FEMALE WALKING', 'MEN WALKING', 'NT RAMARAO', 'Wakanda Forever',\n",
       "       'Victory', 'MALE WALKING', 'FEMALE WALKING', 'FEMALE WALKING',\n",
       "       'Super Man', 'FEMALE WALKING', 'Wakanda Forever', 'whistling',\n",
       "       'Wakanda Forever', 'whistling', 'whistling', 'Thinking',\n",
       "       'Super Man', 'Thinking', 'whistling', 'MEN WALKING', 'Super Man',\n",
       "       'Victory', 'Super Man', 'Happy', 'Thinking', 'whistling',\n",
       "       'MEN WALKING', 'NT RAMARAO', 'Super Man', 'FEMALE WALKING',\n",
       "       'Victory', 'Thinking', 'FEMALE WALKING', 'MALE WALKING',\n",
       "       'whistling', 'Thinking', 'MEN WALKING', 'Super Man', 'Victory',\n",
       "       'NT RAMARAO', 'whistling', 'FEMALE WALKING', 'MEN WALKING',\n",
       "       'Happy', 'NT RAMARAO', 'FEMALE WALKING', 'Wakanda Forever',\n",
       "       'FEMALE WALKING', 'Super Man', 'Victory', 'Victory', 'whistling',\n",
       "       'FEMALE WALKING', 'Victory', 'Wakanda Forever', 'whistling',\n",
       "       'whistling', 'NT RAMARAO', 'whistling', 'Wakanda Forever',\n",
       "       'MALE WALKING', 'Victory', 'FEMALE WALKING', 'MALE WALKING',\n",
       "       'whistling', 'Victory', 'FEMALE WALKING', 'FEMALE WALKING',\n",
       "       'FEMALE WALKING', 'Wakanda Forever', 'Super Man',\n",
       "       'Wakanda Forever', 'Wakanda Forever', 'Thinking',\n",
       "       'Wakanda Forever', 'whistling', 'Victory', 'Victory',\n",
       "       'FEMALE WALKING', 'MEN WALKING', 'Victory', 'Super Man',\n",
       "       'whistling', 'NT RAMARAO', 'whistling', 'Wakanda Forever',\n",
       "       'MEN WALKING', 'whistling', 'FEMALE WALKING', 'whistling',\n",
       "       'FEMALE WALKING', 'Victory', 'Victory', 'Thinking', 'Thinking',\n",
       "       'Thinking', 'Thinking', 'whistling', 'FEMALE WALKING',\n",
       "       'Wakanda Forever', 'Happy', 'FEMALE WALKING', 'FEMALE WALKING',\n",
       "       'Super Man', 'NT RAMARAO', 'NT RAMARAO', 'Thinking',\n",
       "       'Wakanda Forever', 'FEMALE WALKING', 'Super Man', 'Thinking',\n",
       "       'MEN WALKING', 'whistling', 'MEN WALKING', 'FEMALE WALKING',\n",
       "       'Thinking', 'MALE WALKING', 'Happy', 'Victory', 'Super Man',\n",
       "       'Wakanda Forever', 'MALE WALKING', 'whistling', 'FEMALE WALKING',\n",
       "       'MEN WALKING', 'Victory', 'MEN WALKING', 'NT RAMARAO'],\n",
       "      dtype=object)"
      ]
     },
     "execution_count": 20,
     "metadata": {},
     "output_type": "execute_result"
    }
   ],
   "source": [
    "fit_models['lr'].predict(x_test)"
   ]
  },
  {
   "cell_type": "markdown",
   "metadata": {},
   "source": [
    "# Make pickle file "
   ]
  },
  {
   "cell_type": "code",
   "execution_count": 21,
   "metadata": {},
   "outputs": [],
   "source": [
    "from sklearn.metrics import accuracy_score # Accuracy metrics \n",
    "import pickle \n",
    "from playsound import playsound as ps"
   ]
  },
  {
   "cell_type": "code",
   "execution_count": 22,
   "metadata": {},
   "outputs": [
    {
     "name": "stdout",
     "output_type": "stream",
     "text": [
      "lr 0.9895104895104895\n",
      "rc 0.958041958041958\n"
     ]
    }
   ],
   "source": [
    "for algo, model in fit_models.items():\n",
    "    yhat = model.predict(x_test)\n",
    "    print(algo, accuracy_score(y_test, yhat))"
   ]
  },
  {
   "cell_type": "code",
   "execution_count": 23,
   "metadata": {},
   "outputs": [
    {
     "data": {
      "text/plain": [
       "array(['Victory', 'Happy', 'FEMALE WALKING', 'Victory', 'Wakanda Forever',\n",
       "       'whistling', 'FEMALE WALKING', 'whistling', 'MEN WALKING',\n",
       "       'Thinking', 'FEMALE WALKING', 'Wakanda Forever', 'Happy',\n",
       "       'Thinking', 'MALE WALKING', 'MEN WALKING', 'Super Man',\n",
       "       'Wakanda Forever', 'Wakanda Forever', 'Wakanda Forever', 'Happy',\n",
       "       'Happy', 'Victory', 'Victory', 'NT RAMARAO', 'MALE WALKING',\n",
       "       'FEMALE WALKING', 'Thinking', 'NT RAMARAO', 'Wakanda Forever',\n",
       "       'Super Man', 'whistling', 'FEMALE WALKING', 'Wakanda Forever',\n",
       "       'MEN WALKING', 'FEMALE WALKING', 'Thinking', 'MALE WALKING',\n",
       "       'MALE WALKING', 'MEN WALKING', 'MEN WALKING', 'MEN WALKING',\n",
       "       'whistling', 'FEMALE WALKING', 'MEN WALKING', 'Thinking',\n",
       "       'whistling', 'MEN WALKING', 'whistling', 'FEMALE WALKING',\n",
       "       'Wakanda Forever', 'Victory', 'MEN WALKING', 'MALE WALKING',\n",
       "       'Wakanda Forever', 'FEMALE WALKING', 'NT RAMARAO', 'Thinking',\n",
       "       'whistling', 'Victory', 'NT RAMARAO', 'whistling',\n",
       "       'Wakanda Forever', 'MALE WALKING', 'MEN WALKING', 'Thinking',\n",
       "       'MALE WALKING', 'Victory', 'Wakanda Forever', 'Happy', 'Thinking',\n",
       "       'Super Man', 'FEMALE WALKING', 'Super Man', 'NT RAMARAO',\n",
       "       'NT RAMARAO', 'MEN WALKING', 'MALE WALKING', 'Thinking',\n",
       "       'whistling', 'whistling', 'FEMALE WALKING', 'MEN WALKING',\n",
       "       'Thinking', 'FEMALE WALKING', 'Happy', 'FEMALE WALKING',\n",
       "       'whistling', 'NT RAMARAO', 'FEMALE WALKING', 'FEMALE WALKING',\n",
       "       'whistling', 'FEMALE WALKING', 'whistling', 'Happy',\n",
       "       'MALE WALKING', 'MALE WALKING', 'NT RAMARAO', 'Wakanda Forever',\n",
       "       'FEMALE WALKING', 'Victory', 'Thinking', 'FEMALE WALKING',\n",
       "       'NT RAMARAO', 'MEN WALKING', 'Victory', 'FEMALE WALKING',\n",
       "       'Thinking', 'Victory', 'Happy', 'Happy', 'whistling', 'Victory',\n",
       "       'MEN WALKING', 'Victory', 'Thinking', 'Super Man', 'MEN WALKING',\n",
       "       'MEN WALKING', 'whistling', 'Victory', 'whistling', 'Thinking',\n",
       "       'Super Man', 'Super Man', 'Thinking', 'Thinking', 'whistling',\n",
       "       'Wakanda Forever', 'MEN WALKING', 'MEN WALKING', 'Victory',\n",
       "       'Thinking', 'NT RAMARAO', 'FEMALE WALKING', 'Victory',\n",
       "       'MEN WALKING', 'FEMALE WALKING', 'Happy', 'FEMALE WALKING',\n",
       "       'Victory', 'FEMALE WALKING', 'NT RAMARAO', 'whistling',\n",
       "       'NT RAMARAO', 'Super Man', 'Victory', 'Victory', 'whistling',\n",
       "       'Thinking', 'FEMALE WALKING', 'Wakanda Forever', 'Victory',\n",
       "       'whistling', 'Happy', 'Thinking', 'Happy', 'whistling',\n",
       "       'FEMALE WALKING', 'MEN WALKING', 'NT RAMARAO', 'Wakanda Forever',\n",
       "       'Victory', 'MALE WALKING', 'FEMALE WALKING', 'FEMALE WALKING',\n",
       "       'Super Man', 'FEMALE WALKING', 'Wakanda Forever', 'whistling',\n",
       "       'Wakanda Forever', 'whistling', 'whistling', 'Thinking',\n",
       "       'Super Man', 'Thinking', 'whistling', 'MEN WALKING', 'Super Man',\n",
       "       'Victory', 'Super Man', 'Happy', 'Thinking', 'whistling',\n",
       "       'MEN WALKING', 'NT RAMARAO', 'Super Man', 'FEMALE WALKING',\n",
       "       'Victory', 'Thinking', 'FEMALE WALKING', 'MALE WALKING',\n",
       "       'whistling', 'Thinking', 'MEN WALKING', 'Super Man', 'Victory',\n",
       "       'NT RAMARAO', 'whistling', 'FEMALE WALKING', 'MEN WALKING',\n",
       "       'Happy', 'NT RAMARAO', 'FEMALE WALKING', 'Wakanda Forever',\n",
       "       'FEMALE WALKING', 'Super Man', 'Victory', 'Victory', 'whistling',\n",
       "       'FEMALE WALKING', 'Victory', 'Wakanda Forever', 'whistling',\n",
       "       'whistling', 'NT RAMARAO', 'whistling', 'Wakanda Forever',\n",
       "       'MALE WALKING', 'Victory', 'FEMALE WALKING', 'MALE WALKING',\n",
       "       'whistling', 'Victory', 'FEMALE WALKING', 'FEMALE WALKING',\n",
       "       'FEMALE WALKING', 'Wakanda Forever', 'Super Man',\n",
       "       'Wakanda Forever', 'Wakanda Forever', 'Thinking',\n",
       "       'Wakanda Forever', 'whistling', 'Victory', 'Victory',\n",
       "       'FEMALE WALKING', 'MEN WALKING', 'Victory', 'Super Man',\n",
       "       'whistling', 'NT RAMARAO', 'whistling', 'Wakanda Forever',\n",
       "       'MEN WALKING', 'whistling', 'FEMALE WALKING', 'whistling',\n",
       "       'FEMALE WALKING', 'Victory', 'Victory', 'Thinking', 'Thinking',\n",
       "       'Thinking', 'Thinking', 'whistling', 'FEMALE WALKING',\n",
       "       'Wakanda Forever', 'Happy', 'FEMALE WALKING', 'FEMALE WALKING',\n",
       "       'Super Man', 'NT RAMARAO', 'NT RAMARAO', 'Thinking',\n",
       "       'Wakanda Forever', 'FEMALE WALKING', 'Super Man', 'Thinking',\n",
       "       'MEN WALKING', 'whistling', 'MEN WALKING', 'FEMALE WALKING',\n",
       "       'Thinking', 'MALE WALKING', 'Happy', 'Victory', 'Super Man',\n",
       "       'Wakanda Forever', 'MALE WALKING', 'whistling', 'FEMALE WALKING',\n",
       "       'MEN WALKING', 'Victory', 'MEN WALKING', 'NT RAMARAO'],\n",
       "      dtype=object)"
      ]
     },
     "execution_count": 23,
     "metadata": {},
     "output_type": "execute_result"
    }
   ],
   "source": [
    "fit_models['lr'].predict(x_test)"
   ]
  },
  {
   "cell_type": "code",
   "execution_count": 24,
   "metadata": {},
   "outputs": [
    {
     "data": {
      "text/plain": [
       "139             Victory\n",
       "37                Happy\n",
       "1260     FEMALE WALKING\n",
       "99              Victory\n",
       "284     Wakanda Forever\n",
       "             ...       \n",
       "1334     FEMALE WALKING\n",
       "1093        MEN WALKING\n",
       "137             Victory\n",
       "1113        MEN WALKING\n",
       "269          NT RAMARAO\n",
       "Name: pose, Length: 286, dtype: object"
      ]
     },
     "execution_count": 24,
     "metadata": {},
     "output_type": "execute_result"
    }
   ],
   "source": [
    "y_test"
   ]
  },
  {
   "cell_type": "code",
   "execution_count": 25,
   "metadata": {},
   "outputs": [],
   "source": [
    "with open('body_pose_detect.pkl', 'wb') as file: # write our trained model into pickle file\n",
    "    pickle.dump(fit_models['lr'], file)"
   ]
  },
  {
   "cell_type": "code",
   "execution_count": 26,
   "metadata": {},
   "outputs": [],
   "source": [
    "# read pickle file \n",
    "with open('body_pose_detect.pkl', 'rb') as file:\n",
    "    model = pickle.load(file)\n"
   ]
  },
  {
   "cell_type": "code",
   "execution_count": 27,
   "metadata": {},
   "outputs": [
    {
     "data": {
      "text/plain": [
       "Pipeline(steps=[('standardscaler', StandardScaler()),\n",
       "                ('logisticregression', LogisticRegression())])"
      ]
     },
     "execution_count": 27,
     "metadata": {},
     "output_type": "execute_result"
    }
   ],
   "source": [
    "model"
   ]
  },
  {
   "cell_type": "code",
   "execution_count": null,
   "metadata": {},
   "outputs": [
    {
     "name": "stderr",
     "output_type": "stream",
     "text": [
      "C:\\Users\\harsh\\.conda\\lib\\site-packages\\sklearn\\base.py:450: UserWarning: X does not have valid feature names, but StandardScaler was fitted with feature names\n",
      "  warnings.warn(\n",
      "C:\\Users\\harsh\\.conda\\lib\\site-packages\\sklearn\\base.py:450: UserWarning: X does not have valid feature names, but StandardScaler was fitted with feature names\n",
      "  warnings.warn(\n",
      "C:\\Users\\harsh\\.conda\\lib\\site-packages\\sklearn\\base.py:450: UserWarning: X does not have valid feature names, but StandardScaler was fitted with feature names\n",
      "  warnings.warn(\n"
     ]
    },
    {
     "name": "stdout",
     "output_type": "stream",
     "text": [
      "whistling [1.15934650e-24 1.62103893e-10 1.17109334e-35 1.56279576e-24\n",
      " 2.83487334e-30 6.65767775e-25 6.12566764e-25 2.02240077e-10\n",
      " 1.49474218e-19 1.00000000e+00]\n"
     ]
    },
    {
     "name": "stderr",
     "output_type": "stream",
     "text": [
      "C:\\Users\\harsh\\.conda\\lib\\site-packages\\sklearn\\base.py:450: UserWarning: X does not have valid feature names, but StandardScaler was fitted with feature names\n",
      "  warnings.warn(\n",
      "C:\\Users\\harsh\\.conda\\lib\\site-packages\\sklearn\\base.py:450: UserWarning: X does not have valid feature names, but StandardScaler was fitted with feature names\n",
      "  warnings.warn(\n",
      "C:\\Users\\harsh\\.conda\\lib\\site-packages\\sklearn\\base.py:450: UserWarning: X does not have valid feature names, but StandardScaler was fitted with feature names\n",
      "  warnings.warn(\n"
     ]
    },
    {
     "name": "stdout",
     "output_type": "stream",
     "text": [
      "whistling [2.88114404e-24 5.91444253e-11 6.40939242e-36 7.54210893e-26\n",
      " 6.07438149e-31 3.46300044e-25 1.92032176e-24 1.11470353e-11\n",
      " 5.80248969e-20 1.00000000e+00]\n",
      "whistling [4.35612444e-23 8.81152065e-11 3.94657070e-35 1.60698351e-25\n",
      " 2.56867938e-30 3.68231936e-24 8.09206244e-24 2.66809071e-12\n",
      " 1.24423674e-19 1.00000000e+00]\n"
     ]
    },
    {
     "name": "stderr",
     "output_type": "stream",
     "text": [
      "C:\\Users\\harsh\\.conda\\lib\\site-packages\\sklearn\\base.py:450: UserWarning: X does not have valid feature names, but StandardScaler was fitted with feature names\n",
      "  warnings.warn(\n",
      "C:\\Users\\harsh\\.conda\\lib\\site-packages\\sklearn\\base.py:450: UserWarning: X does not have valid feature names, but StandardScaler was fitted with feature names\n",
      "  warnings.warn(\n",
      "C:\\Users\\harsh\\.conda\\lib\\site-packages\\sklearn\\base.py:450: UserWarning: X does not have valid feature names, but StandardScaler was fitted with feature names\n",
      "  warnings.warn(\n",
      "C:\\Users\\harsh\\.conda\\lib\\site-packages\\sklearn\\base.py:450: UserWarning: X does not have valid feature names, but StandardScaler was fitted with feature names\n",
      "  warnings.warn(\n"
     ]
    },
    {
     "name": "stdout",
     "output_type": "stream",
     "text": [
      "whistling [2.98889259e-22 1.28326659e-10 2.93338253e-35 3.70461031e-25\n",
      " 7.63246114e-30 3.95575691e-24 4.86139930e-23 5.61241280e-13\n",
      " 3.01774376e-19 1.00000000e+00]\n",
      "whistling [3.02098755e-22 3.35536267e-10 6.00076801e-35 3.00247787e-24\n",
      " 3.93991536e-29 5.79700554e-24 2.16603363e-22 2.78884860e-13\n",
      " 1.64228624e-18 1.00000000e+00]\n"
     ]
    },
    {
     "name": "stderr",
     "output_type": "stream",
     "text": [
      "C:\\Users\\harsh\\.conda\\lib\\site-packages\\sklearn\\base.py:450: UserWarning: X does not have valid feature names, but StandardScaler was fitted with feature names\n",
      "  warnings.warn(\n",
      "C:\\Users\\harsh\\.conda\\lib\\site-packages\\sklearn\\base.py:450: UserWarning: X does not have valid feature names, but StandardScaler was fitted with feature names\n",
      "  warnings.warn(\n",
      "C:\\Users\\harsh\\.conda\\lib\\site-packages\\sklearn\\base.py:450: UserWarning: X does not have valid feature names, but StandardScaler was fitted with feature names\n",
      "  warnings.warn(\n",
      "C:\\Users\\harsh\\.conda\\lib\\site-packages\\sklearn\\base.py:450: UserWarning: X does not have valid feature names, but StandardScaler was fitted with feature names\n",
      "  warnings.warn(\n"
     ]
    },
    {
     "name": "stdout",
     "output_type": "stream",
     "text": [
      "whistling [2.82415541e-21 4.32481288e-10 1.67135656e-34 1.81335081e-24\n",
      " 1.01070924e-28 2.57988850e-23 8.42361768e-22 9.24585898e-14\n",
      " 4.24960974e-18 1.00000000e+00]\n",
      "whistling [1.67989181e-20 1.18332229e-09 1.34271942e-33 2.90968261e-23\n",
      " 7.25356081e-28 1.03954258e-22 3.23692944e-21 6.74189362e-14\n",
      " 1.97464984e-17 9.99999999e-01]\n",
      "whistling [1.60216709e-19 1.12326617e-09 2.90763927e-33 1.96496333e-23\n",
      " 2.13867003e-27 2.30601878e-22 3.18838743e-20 1.60347468e-14\n",
      " 3.05992159e-17 9.99999999e-01]\n"
     ]
    },
    {
     "name": "stderr",
     "output_type": "stream",
     "text": [
      "C:\\Users\\harsh\\.conda\\lib\\site-packages\\sklearn\\base.py:450: UserWarning: X does not have valid feature names, but StandardScaler was fitted with feature names\n",
      "  warnings.warn(\n",
      "C:\\Users\\harsh\\.conda\\lib\\site-packages\\sklearn\\base.py:450: UserWarning: X does not have valid feature names, but StandardScaler was fitted with feature names\n",
      "  warnings.warn(\n",
      "C:\\Users\\harsh\\.conda\\lib\\site-packages\\sklearn\\base.py:450: UserWarning: X does not have valid feature names, but StandardScaler was fitted with feature names\n",
      "  warnings.warn(\n",
      "C:\\Users\\harsh\\.conda\\lib\\site-packages\\sklearn\\base.py:450: UserWarning: X does not have valid feature names, but StandardScaler was fitted with feature names\n",
      "  warnings.warn(\n",
      "C:\\Users\\harsh\\.conda\\lib\\site-packages\\sklearn\\base.py:450: UserWarning: X does not have valid feature names, but StandardScaler was fitted with feature names\n",
      "  warnings.warn(\n"
     ]
    },
    {
     "name": "stdout",
     "output_type": "stream",
     "text": [
      "whistling [4.51947603e-19 1.09537336e-09 2.54982801e-33 2.14218117e-23\n",
      " 3.82207043e-27 1.87390492e-22 4.13577572e-19 1.66014905e-15\n",
      " 2.21947045e-17 9.99999999e-01]\n"
     ]
    },
    {
     "name": "stderr",
     "output_type": "stream",
     "text": [
      "C:\\Users\\harsh\\.conda\\lib\\site-packages\\sklearn\\base.py:450: UserWarning: X does not have valid feature names, but StandardScaler was fitted with feature names\n",
      "  warnings.warn(\n",
      "C:\\Users\\harsh\\.conda\\lib\\site-packages\\sklearn\\base.py:450: UserWarning: X does not have valid feature names, but StandardScaler was fitted with feature names\n",
      "  warnings.warn(\n",
      "C:\\Users\\harsh\\.conda\\lib\\site-packages\\sklearn\\base.py:450: UserWarning: X does not have valid feature names, but StandardScaler was fitted with feature names\n",
      "  warnings.warn(\n"
     ]
    },
    {
     "name": "stdout",
     "output_type": "stream",
     "text": [
      "whistling [2.18914972e-18 1.11338663e-09 2.43231618e-33 6.85855986e-23\n",
      " 6.84399383e-27 1.60393985e-22 5.10272753e-18 1.83676282e-16\n",
      " 1.12332849e-17 9.99999999e-01]\n",
      "whistling [9.03734406e-18 7.20015630e-10 7.01263991e-33 6.07975243e-22\n",
      " 1.70845691e-25 3.36432113e-22 2.05714091e-17 7.31939021e-17\n",
      " 2.94871145e-17 9.99999999e-01]\n"
     ]
    },
    {
     "name": "stderr",
     "output_type": "stream",
     "text": [
      "C:\\Users\\harsh\\.conda\\lib\\site-packages\\sklearn\\base.py:450: UserWarning: X does not have valid feature names, but StandardScaler was fitted with feature names\n",
      "  warnings.warn(\n",
      "C:\\Users\\harsh\\.conda\\lib\\site-packages\\sklearn\\base.py:450: UserWarning: X does not have valid feature names, but StandardScaler was fitted with feature names\n",
      "  warnings.warn(\n",
      "C:\\Users\\harsh\\.conda\\lib\\site-packages\\sklearn\\base.py:450: UserWarning: X does not have valid feature names, but StandardScaler was fitted with feature names\n",
      "  warnings.warn(\n"
     ]
    },
    {
     "name": "stdout",
     "output_type": "stream",
     "text": [
      "whistling [2.13003490e-17 1.05718701e-09 4.26060045e-32 2.69157633e-21\n",
      " 3.27570945e-24 3.76963929e-21 1.30460361e-16 9.11238122e-17\n",
      " 1.01840924e-16 9.99999999e-01]\n",
      "whistling [3.39298631e-16 2.06637986e-09 2.25416120e-31 8.95265521e-21\n",
      " 6.80962130e-24 1.20339454e-20 1.15744514e-15 4.43565922e-17\n",
      " 1.15250002e-16 9.99999998e-01]\n"
     ]
    },
    {
     "name": "stderr",
     "output_type": "stream",
     "text": [
      "C:\\Users\\harsh\\.conda\\lib\\site-packages\\sklearn\\base.py:450: UserWarning: X does not have valid feature names, but StandardScaler was fitted with feature names\n",
      "  warnings.warn(\n",
      "C:\\Users\\harsh\\.conda\\lib\\site-packages\\sklearn\\base.py:450: UserWarning: X does not have valid feature names, but StandardScaler was fitted with feature names\n",
      "  warnings.warn(\n",
      "C:\\Users\\harsh\\.conda\\lib\\site-packages\\sklearn\\base.py:450: UserWarning: X does not have valid feature names, but StandardScaler was fitted with feature names\n",
      "  warnings.warn(\n",
      "C:\\Users\\harsh\\.conda\\lib\\site-packages\\sklearn\\base.py:450: UserWarning: X does not have valid feature names, but StandardScaler was fitted with feature names\n",
      "  warnings.warn(\n",
      "C:\\Users\\harsh\\.conda\\lib\\site-packages\\sklearn\\base.py:450: UserWarning: X does not have valid feature names, but StandardScaler was fitted with feature names\n",
      "  warnings.warn(\n"
     ]
    },
    {
     "name": "stdout",
     "output_type": "stream",
     "text": [
      "whistling [1.06728182e-14 3.22452460e-09 1.94209377e-29 3.97933415e-19\n",
      " 6.28840181e-22 9.99466434e-19 2.63120390e-14 5.48875821e-17\n",
      " 4.27145160e-16 9.99999997e-01]\n",
      "whistling [2.19316448e-14 2.27945995e-09 1.05453202e-28 6.41575080e-19\n",
      " 4.84548256e-21 1.26921121e-18 4.58887398e-13 9.16476556e-18\n",
      " 3.01785922e-16 9.99999998e-01]\n"
     ]
    },
    {
     "name": "stderr",
     "output_type": "stream",
     "text": [
      "C:\\Users\\harsh\\.conda\\lib\\site-packages\\sklearn\\base.py:450: UserWarning: X does not have valid feature names, but StandardScaler was fitted with feature names\n",
      "  warnings.warn(\n",
      "C:\\Users\\harsh\\.conda\\lib\\site-packages\\sklearn\\base.py:450: UserWarning: X does not have valid feature names, but StandardScaler was fitted with feature names\n",
      "  warnings.warn(\n",
      "C:\\Users\\harsh\\.conda\\lib\\site-packages\\sklearn\\base.py:450: UserWarning: X does not have valid feature names, but StandardScaler was fitted with feature names\n",
      "  warnings.warn(\n",
      "C:\\Users\\harsh\\.conda\\lib\\site-packages\\sklearn\\base.py:450: UserWarning: X does not have valid feature names, but StandardScaler was fitted with feature names\n",
      "  warnings.warn(\n"
     ]
    },
    {
     "name": "stdout",
     "output_type": "stream",
     "text": [
      "whistling [1.12723266e-14 1.14344140e-09 1.62238927e-29 1.39912533e-18\n",
      " 3.10680113e-21 3.11456940e-19 1.47679884e-12 7.73660509e-19\n",
      " 4.39115890e-17 9.99999999e-01]\n",
      "whistling [4.56525168e-13 8.98697465e-10 4.73070533e-28 3.25580443e-17\n",
      " 8.80200555e-20 3.58134106e-18 7.81637318e-11 1.11642814e-19\n",
      " 1.98165904e-17 9.99999999e-01]\n"
     ]
    },
    {
     "name": "stderr",
     "output_type": "stream",
     "text": [
      "C:\\Users\\harsh\\.conda\\lib\\site-packages\\sklearn\\base.py:450: UserWarning: X does not have valid feature names, but StandardScaler was fitted with feature names\n",
      "  warnings.warn(\n",
      "C:\\Users\\harsh\\.conda\\lib\\site-packages\\sklearn\\base.py:450: UserWarning: X does not have valid feature names, but StandardScaler was fitted with feature names\n",
      "  warnings.warn(\n",
      "C:\\Users\\harsh\\.conda\\lib\\site-packages\\sklearn\\base.py:450: UserWarning: X does not have valid feature names, but StandardScaler was fitted with feature names\n",
      "  warnings.warn(\n"
     ]
    },
    {
     "name": "stdout",
     "output_type": "stream",
     "text": [
      "whistling [1.21320424e-12 1.87826692e-09 2.87291788e-26 2.47102331e-15\n",
      " 6.63468481e-19 2.52453144e-16 1.91042598e-09 2.38531294e-20\n",
      " 1.08192403e-18 9.99999996e-01]\n"
     ]
    },
    {
     "name": "stderr",
     "output_type": "stream",
     "text": [
      "C:\\Users\\harsh\\.conda\\lib\\site-packages\\sklearn\\base.py:450: UserWarning: X does not have valid feature names, but StandardScaler was fitted with feature names\n",
      "  warnings.warn(\n",
      "C:\\Users\\harsh\\.conda\\lib\\site-packages\\sklearn\\base.py:450: UserWarning: X does not have valid feature names, but StandardScaler was fitted with feature names\n",
      "  warnings.warn(\n"
     ]
    },
    {
     "name": "stdout",
     "output_type": "stream",
     "text": [
      "whistling [1.95168178e-12 5.78426261e-10 1.05087798e-26 4.45604358e-15\n",
      " 6.99232979e-19 2.97049182e-16 7.71450194e-09 2.98990693e-21\n",
      " 3.56224096e-19 9.99999992e-01]\n"
     ]
    },
    {
     "name": "stderr",
     "output_type": "stream",
     "text": [
      "C:\\Users\\harsh\\.conda\\lib\\site-packages\\sklearn\\base.py:450: UserWarning: X does not have valid feature names, but StandardScaler was fitted with feature names\n",
      "  warnings.warn(\n",
      "C:\\Users\\harsh\\.conda\\lib\\site-packages\\sklearn\\base.py:450: UserWarning: X does not have valid feature names, but StandardScaler was fitted with feature names\n",
      "  warnings.warn(\n"
     ]
    },
    {
     "name": "stdout",
     "output_type": "stream",
     "text": [
      "whistling [1.64377185e-12 1.92687597e-08 8.85324133e-24 1.22236771e-10\n",
      " 2.86610551e-17 2.54687407e-15 4.50702727e-07 2.53369418e-21\n",
      " 7.81296510e-20 9.99999530e-01]\n"
     ]
    },
    {
     "name": "stderr",
     "output_type": "stream",
     "text": [
      "C:\\Users\\harsh\\.conda\\lib\\site-packages\\sklearn\\base.py:450: UserWarning: X does not have valid feature names, but StandardScaler was fitted with feature names\n",
      "  warnings.warn(\n",
      "C:\\Users\\harsh\\.conda\\lib\\site-packages\\sklearn\\base.py:450: UserWarning: X does not have valid feature names, but StandardScaler was fitted with feature names\n",
      "  warnings.warn(\n",
      "C:\\Users\\harsh\\.conda\\lib\\site-packages\\sklearn\\base.py:450: UserWarning: X does not have valid feature names, but StandardScaler was fitted with feature names\n",
      "  warnings.warn(\n"
     ]
    },
    {
     "name": "stdout",
     "output_type": "stream",
     "text": [
      "whistling [5.13119884e-10 1.54563872e-08 2.58541001e-23 6.17516881e-09\n",
      " 4.78217020e-16 1.60639888e-15 3.40092818e-05 8.02016962e-22\n",
      " 1.01147533e-19 9.99965969e-01]\n",
      "whistling [7.07621380e-08 3.70135532e-10 5.50133167e-22 6.70616710e-07\n",
      " 1.23031262e-13 1.42668425e-15 2.56834546e-02 6.33555576e-24\n",
      " 5.57535943e-21 9.74315804e-01]\n"
     ]
    },
    {
     "name": "stderr",
     "output_type": "stream",
     "text": [
      "C:\\Users\\harsh\\.conda\\lib\\site-packages\\sklearn\\base.py:450: UserWarning: X does not have valid feature names, but StandardScaler was fitted with feature names\n",
      "  warnings.warn(\n",
      "C:\\Users\\harsh\\.conda\\lib\\site-packages\\sklearn\\base.py:450: UserWarning: X does not have valid feature names, but StandardScaler was fitted with feature names\n",
      "  warnings.warn(\n"
     ]
    },
    {
     "name": "stdout",
     "output_type": "stream",
     "text": [
      "Thinking [1.27011460e-07 2.73242145e-12 6.04514109e-21 9.51545278e-08\n",
      " 2.65598964e-14 9.65992641e-13 9.83461833e-01 1.41272416e-27\n",
      " 6.60920059e-24 1.65379446e-02]\n"
     ]
    },
    {
     "name": "stderr",
     "output_type": "stream",
     "text": [
      "C:\\Users\\harsh\\.conda\\lib\\site-packages\\sklearn\\base.py:450: UserWarning: X does not have valid feature names, but StandardScaler was fitted with feature names\n",
      "  warnings.warn(\n",
      "C:\\Users\\harsh\\.conda\\lib\\site-packages\\sklearn\\base.py:450: UserWarning: X does not have valid feature names, but StandardScaler was fitted with feature names\n",
      "  warnings.warn(\n",
      "C:\\Users\\harsh\\.conda\\lib\\site-packages\\sklearn\\base.py:450: UserWarning: X does not have valid feature names, but StandardScaler was fitted with feature names\n",
      "  warnings.warn(\n",
      "C:\\Users\\harsh\\.conda\\lib\\site-packages\\sklearn\\base.py:450: UserWarning: X does not have valid feature names, but StandardScaler was fitted with feature names\n",
      "  warnings.warn(\n"
     ]
    },
    {
     "name": "stdout",
     "output_type": "stream",
     "text": [
      "Thinking [4.68636938e-08 7.61245696e-16 1.01212741e-22 2.35312511e-11\n",
      " 1.58301705e-16 8.04403464e-14 9.99615080e-01 1.45968408e-32\n",
      " 3.98654174e-27 3.84873010e-04]\n",
      "Thinking [2.55144771e-12 2.99596971e-19 4.40190316e-24 1.03321610e-14\n",
      " 2.48043119e-18 1.04537631e-15 9.99778157e-01 5.10949402e-36\n",
      " 2.78950016e-31 2.21843291e-04]\n"
     ]
    },
    {
     "name": "stderr",
     "output_type": "stream",
     "text": [
      "C:\\Users\\harsh\\.conda\\lib\\site-packages\\sklearn\\base.py:450: UserWarning: X does not have valid feature names, but StandardScaler was fitted with feature names\n",
      "  warnings.warn(\n",
      "C:\\Users\\harsh\\.conda\\lib\\site-packages\\sklearn\\base.py:450: UserWarning: X does not have valid feature names, but StandardScaler was fitted with feature names\n",
      "  warnings.warn(\n",
      "C:\\Users\\harsh\\.conda\\lib\\site-packages\\sklearn\\base.py:450: UserWarning: X does not have valid feature names, but StandardScaler was fitted with feature names\n",
      "  warnings.warn(\n",
      "C:\\Users\\harsh\\.conda\\lib\\site-packages\\sklearn\\base.py:450: UserWarning: X does not have valid feature names, but StandardScaler was fitted with feature names\n",
      "  warnings.warn(\n"
     ]
    },
    {
     "name": "stdout",
     "output_type": "stream",
     "text": [
      "Thinking [5.80550330e-18 1.42677666e-19 2.79064949e-20 2.99344313e-12\n",
      " 1.70321728e-18 5.35070200e-09 9.99998073e-01 1.17655776e-34\n",
      " 1.06996962e-32 1.92132603e-06]\n",
      "Thinking [1.19069917e-12 2.39167324e-12 7.98520379e-19 5.27210712e-08\n",
      " 6.33144230e-14 3.55990763e-11 9.76603094e-01 4.20555744e-27\n",
      " 7.21212736e-25 2.33968536e-02]\n"
     ]
    },
    {
     "name": "stderr",
     "output_type": "stream",
     "text": [
      "C:\\Users\\harsh\\.conda\\lib\\site-packages\\sklearn\\base.py:450: UserWarning: X does not have valid feature names, but StandardScaler was fitted with feature names\n",
      "  warnings.warn(\n",
      "C:\\Users\\harsh\\.conda\\lib\\site-packages\\sklearn\\base.py:450: UserWarning: X does not have valid feature names, but StandardScaler was fitted with feature names\n",
      "  warnings.warn(\n",
      "C:\\Users\\harsh\\.conda\\lib\\site-packages\\sklearn\\base.py:450: UserWarning: X does not have valid feature names, but StandardScaler was fitted with feature names\n",
      "  warnings.warn(\n"
     ]
    },
    {
     "name": "stdout",
     "output_type": "stream",
     "text": [
      "Thinking [4.60389563e-10 1.62809245e-10 5.42020507e-18 2.45536045e-07\n",
      " 3.64888107e-12 5.37913431e-10 6.52458900e-01 3.58899517e-23\n",
      " 3.67312783e-21 3.47540853e-01]\n"
     ]
    },
    {
     "name": "stderr",
     "output_type": "stream",
     "text": [
      "C:\\Users\\harsh\\.conda\\lib\\site-packages\\sklearn\\base.py:450: UserWarning: X does not have valid feature names, but StandardScaler was fitted with feature names\n",
      "  warnings.warn(\n",
      "C:\\Users\\harsh\\.conda\\lib\\site-packages\\sklearn\\base.py:450: UserWarning: X does not have valid feature names, but StandardScaler was fitted with feature names\n",
      "  warnings.warn(\n",
      "C:\\Users\\harsh\\.conda\\lib\\site-packages\\sklearn\\base.py:450: UserWarning: X does not have valid feature names, but StandardScaler was fitted with feature names\n",
      "  warnings.warn(\n"
     ]
    },
    {
     "name": "stdout",
     "output_type": "stream",
     "text": [
      "whistling [1.01502551e-07 9.94719725e-09 4.31885091e-15 4.31882935e-06\n",
      " 1.40173247e-10 9.21270339e-07 1.15296991e-01 5.32857130e-19\n",
      " 1.56823468e-17 8.84697657e-01]\n",
      "whistling [9.71055170e-08 5.38366242e-09 2.23208086e-15 2.56688157e-08\n",
      " 1.00977126e-11 3.95201563e-05 1.45485195e-02 1.83046703e-18\n",
      " 2.22604589e-17 9.85411832e-01]\n"
     ]
    },
    {
     "name": "stderr",
     "output_type": "stream",
     "text": [
      "C:\\Users\\harsh\\.conda\\lib\\site-packages\\sklearn\\base.py:450: UserWarning: X does not have valid feature names, but StandardScaler was fitted with feature names\n",
      "  warnings.warn(\n",
      "C:\\Users\\harsh\\.conda\\lib\\site-packages\\sklearn\\base.py:450: UserWarning: X does not have valid feature names, but StandardScaler was fitted with feature names\n",
      "  warnings.warn(\n",
      "C:\\Users\\harsh\\.conda\\lib\\site-packages\\sklearn\\base.py:450: UserWarning: X does not have valid feature names, but StandardScaler was fitted with feature names\n",
      "  warnings.warn(\n",
      "C:\\Users\\harsh\\.conda\\lib\\site-packages\\sklearn\\base.py:450: UserWarning: X does not have valid feature names, but StandardScaler was fitted with feature names\n",
      "  warnings.warn(\n"
     ]
    },
    {
     "name": "stdout",
     "output_type": "stream",
     "text": [
      "whistling [8.52528288e-10 5.48058085e-09 2.59069988e-17 4.34633282e-08\n",
      " 5.22773717e-12 2.12925233e-07 2.33912684e-03 6.91711409e-19\n",
      " 1.83988076e-17 9.97660610e-01]\n",
      "whistling"
     ]
    },
    {
     "name": "stderr",
     "output_type": "stream",
     "text": [
      "C:\\Users\\harsh\\.conda\\lib\\site-packages\\sklearn\\base.py:450: UserWarning: X does not have valid feature names, but StandardScaler was fitted with feature names\n",
      "  warnings.warn(\n",
      "C:\\Users\\harsh\\.conda\\lib\\site-packages\\sklearn\\base.py:450: UserWarning: X does not have valid feature names, but StandardScaler was fitted with feature names\n",
      "  warnings.warn(\n",
      "C:\\Users\\harsh\\.conda\\lib\\site-packages\\sklearn\\base.py:450: UserWarning: X does not have valid feature names, but StandardScaler was fitted with feature names\n",
      "  warnings.warn(\n"
     ]
    },
    {
     "name": "stdout",
     "output_type": "stream",
     "text": [
      " [1.93977434e-10 8.51066013e-09 5.19093431e-19 8.40724707e-08\n",
      " 3.34831183e-13 2.56612843e-09 3.98019810e-03 1.43173117e-19\n",
      " 4.92222013e-18 9.96019707e-01]\n",
      "whistling [1.22403059e-11 3.68799432e-09 2.02040685e-21 4.17174978e-10\n",
      " 2.71240688e-16 4.35793991e-11 1.81562544e-04 8.24587722e-21\n",
      " 3.03231561e-19 9.99818433e-01]\n"
     ]
    },
    {
     "name": "stderr",
     "output_type": "stream",
     "text": [
      "C:\\Users\\harsh\\.conda\\lib\\site-packages\\sklearn\\base.py:450: UserWarning: X does not have valid feature names, but StandardScaler was fitted with feature names\n",
      "  warnings.warn(\n",
      "C:\\Users\\harsh\\.conda\\lib\\site-packages\\sklearn\\base.py:450: UserWarning: X does not have valid feature names, but StandardScaler was fitted with feature names\n",
      "  warnings.warn(\n",
      "C:\\Users\\harsh\\.conda\\lib\\site-packages\\sklearn\\base.py:450: UserWarning: X does not have valid feature names, but StandardScaler was fitted with feature names\n",
      "  warnings.warn(\n"
     ]
    },
    {
     "name": "stdout",
     "output_type": "stream",
     "text": [
      "whistling [8.91405153e-12 1.87064988e-09 1.11509923e-21 1.31219312e-10\n",
      " 3.08232966e-16 2.29046696e-10 1.95176124e-05 8.65303989e-21\n",
      " 6.94419119e-19 9.99980480e-01]\n",
      "whistling [9.30469883e-10 2.98232426e-09 8.49597713e-21 6.82732367e-10\n",
      " 2.22124976e-16 1.29271606e-09 2.13155077e-04 1.18966117e-21\n",
      " 3.89856119e-17 9.99786839e-01]\n"
     ]
    },
    {
     "name": "stderr",
     "output_type": "stream",
     "text": [
      "C:\\Users\\harsh\\.conda\\lib\\site-packages\\sklearn\\base.py:450: UserWarning: X does not have valid feature names, but StandardScaler was fitted with feature names\n",
      "  warnings.warn(\n",
      "C:\\Users\\harsh\\.conda\\lib\\site-packages\\sklearn\\base.py:450: UserWarning: X does not have valid feature names, but StandardScaler was fitted with feature names\n",
      "  warnings.warn(\n",
      "C:\\Users\\harsh\\.conda\\lib\\site-packages\\sklearn\\base.py:450: UserWarning: X does not have valid feature names, but StandardScaler was fitted with feature names\n",
      "  warnings.warn(\n"
     ]
    },
    {
     "name": "stdout",
     "output_type": "stream",
     "text": [
      "whistling [1.77029366e-09 9.09698214e-10 9.46110134e-20 1.43278739e-11\n",
      " 1.48189640e-15 1.24221469e-07 2.37426966e-04 1.06383231e-21\n",
      " 5.24041123e-17 9.99762446e-01]\n"
     ]
    },
    {
     "name": "stderr",
     "output_type": "stream",
     "text": [
      "C:\\Users\\harsh\\.conda\\lib\\site-packages\\sklearn\\base.py:450: UserWarning: X does not have valid feature names, but StandardScaler was fitted with feature names\n",
      "  warnings.warn(\n",
      "C:\\Users\\harsh\\.conda\\lib\\site-packages\\sklearn\\base.py:450: UserWarning: X does not have valid feature names, but StandardScaler was fitted with feature names\n",
      "  warnings.warn(\n",
      "C:\\Users\\harsh\\.conda\\lib\\site-packages\\sklearn\\base.py:450: UserWarning: X does not have valid feature names, but StandardScaler was fitted with feature names\n",
      "  warnings.warn(\n"
     ]
    },
    {
     "name": "stdout",
     "output_type": "stream",
     "text": [
      "whistling [2.26814951e-10 3.35648712e-09 2.73457447e-19 2.72581918e-09\n",
      " 1.16253872e-14 8.26418237e-08 3.75491518e-04 5.76680417e-20\n",
      " 1.70837091e-16 9.99624420e-01]\n",
      "whistling [1.14429324e-10 9.95525551e-10 8.90262309e-19 1.26545226e-10\n",
      " 9.81931256e-15 1.93557486e-06 3.78432247e-04 1.02058881e-19\n",
      " 9.86699101e-17 9.99619631e-01]\n",
      "whistling [9.58662279e-10 1.07431409e-09 9.22025007e-19 3.33656855e-10\n",
      " 3.17896537e-14 4.59226909e-06 5.75174466e-04 2.09643474e-19\n",
      " 1.97173228e-16 9.99420231e-01]\n"
     ]
    },
    {
     "name": "stderr",
     "output_type": "stream",
     "text": [
      "C:\\Users\\harsh\\.conda\\lib\\site-packages\\sklearn\\base.py:450: UserWarning: X does not have valid feature names, but StandardScaler was fitted with feature names\n",
      "  warnings.warn(\n",
      "C:\\Users\\harsh\\.conda\\lib\\site-packages\\sklearn\\base.py:450: UserWarning: X does not have valid feature names, but StandardScaler was fitted with feature names\n",
      "  warnings.warn(\n",
      "C:\\Users\\harsh\\.conda\\lib\\site-packages\\sklearn\\base.py:450: UserWarning: X does not have valid feature names, but StandardScaler was fitted with feature names\n",
      "  warnings.warn(\n",
      "C:\\Users\\harsh\\.conda\\lib\\site-packages\\sklearn\\base.py:450: UserWarning: X does not have valid feature names, but StandardScaler was fitted with feature names\n",
      "  warnings.warn(\n",
      "C:\\Users\\harsh\\.conda\\lib\\site-packages\\sklearn\\base.py:450: UserWarning: X does not have valid feature names, but StandardScaler was fitted with feature names\n",
      "  warnings.warn(\n",
      "C:\\Users\\harsh\\.conda\\lib\\site-packages\\sklearn\\base.py:450: UserWarning: X does not have valid feature names, but StandardScaler was fitted with feature names\n",
      "  warnings.warn(\n"
     ]
    },
    {
     "name": "stdout",
     "output_type": "stream",
     "text": [
      "whistling [3.97996122e-10 3.15740147e-10 8.10444293e-20 2.56663782e-11\n",
      " 6.89004315e-15 1.36444823e-06 1.90024236e-04 7.66862527e-20\n",
      " 6.74469689e-17 9.99808611e-01]\n",
      "whistling [7.26314159e-11 2.19803665e-10 8.68486685e-21 1.39874682e-11\n",
      " 3.68890331e-15 1.29550462e-07 1.30534952e-04 3.81689461e-20\n",
      " 3.76175171e-17 9.99869335e-01]\n"
     ]
    },
    {
     "name": "stderr",
     "output_type": "stream",
     "text": [
      "C:\\Users\\harsh\\.conda\\lib\\site-packages\\sklearn\\base.py:450: UserWarning: X does not have valid feature names, but StandardScaler was fitted with feature names\n",
      "  warnings.warn(\n",
      "C:\\Users\\harsh\\.conda\\lib\\site-packages\\sklearn\\base.py:450: UserWarning: X does not have valid feature names, but StandardScaler was fitted with feature names\n",
      "  warnings.warn(\n",
      "C:\\Users\\harsh\\.conda\\lib\\site-packages\\sklearn\\base.py:450: UserWarning: X does not have valid feature names, but StandardScaler was fitted with feature names\n",
      "  warnings.warn(\n",
      "C:\\Users\\harsh\\.conda\\lib\\site-packages\\sklearn\\base.py:450: UserWarning: X does not have valid feature names, but StandardScaler was fitted with feature names\n",
      "  warnings.warn(\n"
     ]
    },
    {
     "name": "stdout",
     "output_type": "stream",
     "text": [
      "whistling [3.01259383e-12 2.78279840e-10 2.89217954e-21 1.60521076e-11\n",
      " 1.09042117e-15 6.62550741e-08 2.90924209e-05 5.19753809e-20\n",
      " 2.04051988e-17 9.99970841e-01]\n",
      "whistling [3.36155927e-12 2.20380781e-10 1.65886920e-21 2.09961324e-12\n",
      " 3.71088100e-16 5.81658459e-08 1.67314460e-05 5.19120357e-20\n",
      " 1.22391376e-17 9.99983210e-01]\n"
     ]
    },
    {
     "name": "stderr",
     "output_type": "stream",
     "text": [
      "C:\\Users\\harsh\\.conda\\lib\\site-packages\\sklearn\\base.py:450: UserWarning: X does not have valid feature names, but StandardScaler was fitted with feature names\n",
      "  warnings.warn(\n",
      "C:\\Users\\harsh\\.conda\\lib\\site-packages\\sklearn\\base.py:450: UserWarning: X does not have valid feature names, but StandardScaler was fitted with feature names\n",
      "  warnings.warn(\n"
     ]
    },
    {
     "name": "stdout",
     "output_type": "stream",
     "text": [
      "whistling [8.17719365e-12 1.74774486e-10 1.57336543e-21 5.20390394e-12\n",
      " 8.21544419e-16 6.82840625e-08 1.45577688e-05 9.50074784e-20\n",
      " 2.21415072e-17 9.99985374e-01]\n"
     ]
    },
    {
     "name": "stderr",
     "output_type": "stream",
     "text": [
      "C:\\Users\\harsh\\.conda\\lib\\site-packages\\sklearn\\base.py:450: UserWarning: X does not have valid feature names, but StandardScaler was fitted with feature names\n",
      "  warnings.warn(\n",
      "C:\\Users\\harsh\\.conda\\lib\\site-packages\\sklearn\\base.py:450: UserWarning: X does not have valid feature names, but StandardScaler was fitted with feature names\n",
      "  warnings.warn(\n"
     ]
    },
    {
     "name": "stdout",
     "output_type": "stream",
     "text": [
      "whistling [1.39973584e-11 7.28194341e-11 1.58992520e-22 1.98471344e-12\n",
      " 4.85902941e-16 9.65464866e-09 7.30878143e-06 7.51210634e-20\n",
      " 8.58519397e-18 9.99992681e-01]\n"
     ]
    },
    {
     "name": "stderr",
     "output_type": "stream",
     "text": [
      "C:\\Users\\harsh\\.conda\\lib\\site-packages\\sklearn\\base.py:450: UserWarning: X does not have valid feature names, but StandardScaler was fitted with feature names\n",
      "  warnings.warn(\n",
      "C:\\Users\\harsh\\.conda\\lib\\site-packages\\sklearn\\base.py:450: UserWarning: X does not have valid feature names, but StandardScaler was fitted with feature names\n",
      "  warnings.warn(\n"
     ]
    },
    {
     "name": "stdout",
     "output_type": "stream",
     "text": [
      "whistling [5.16752720e-12 7.04506955e-11 1.17297875e-22 1.16939657e-12\n",
      " 2.34427072e-16 7.22769205e-09 5.58778893e-06 7.89102003e-20\n",
      " 5.27185605e-18 9.99994405e-01]\n"
     ]
    },
    {
     "name": "stderr",
     "output_type": "stream",
     "text": [
      "C:\\Users\\harsh\\.conda\\lib\\site-packages\\sklearn\\base.py:450: UserWarning: X does not have valid feature names, but StandardScaler was fitted with feature names\n",
      "  warnings.warn(\n",
      "C:\\Users\\harsh\\.conda\\lib\\site-packages\\sklearn\\base.py:450: UserWarning: X does not have valid feature names, but StandardScaler was fitted with feature names\n",
      "  warnings.warn(\n"
     ]
    },
    {
     "name": "stdout",
     "output_type": "stream",
     "text": [
      "whistling [1.98453034e-12 5.74538002e-11 5.76656005e-23 2.20577485e-12\n",
      " 2.14195211e-16 2.39036140e-09 3.60860258e-06 9.85241645e-20\n",
      " 3.96836231e-18 9.99996389e-01]\n"
     ]
    },
    {
     "name": "stderr",
     "output_type": "stream",
     "text": [
      "C:\\Users\\harsh\\.conda\\lib\\site-packages\\sklearn\\base.py:450: UserWarning: X does not have valid feature names, but StandardScaler was fitted with feature names\n",
      "  warnings.warn(\n",
      "C:\\Users\\harsh\\.conda\\lib\\site-packages\\sklearn\\base.py:450: UserWarning: X does not have valid feature names, but StandardScaler was fitted with feature names\n",
      "  warnings.warn(\n",
      "C:\\Users\\harsh\\.conda\\lib\\site-packages\\sklearn\\base.py:450: UserWarning: X does not have valid feature names, but StandardScaler was fitted with feature names\n",
      "  warnings.warn(\n"
     ]
    },
    {
     "name": "stdout",
     "output_type": "stream",
     "text": [
      "whistling [8.05805777e-13 4.56949450e-11 6.85600742e-23 3.47189438e-12\n",
      " 3.24827695e-16 2.26433339e-09 2.60151002e-06 1.05911891e-19\n",
      " 3.91419023e-18 9.99997396e-01]\n"
     ]
    },
    {
     "name": "stderr",
     "output_type": "stream",
     "text": [
      "C:\\Users\\harsh\\.conda\\lib\\site-packages\\sklearn\\base.py:450: UserWarning: X does not have valid feature names, but StandardScaler was fitted with feature names\n",
      "  warnings.warn(\n"
     ]
    },
    {
     "name": "stdout",
     "output_type": "stream",
     "text": [
      "whistling [1.20964422e-12 6.44504569e-11 8.19874262e-23 1.70886268e-11\n",
      " 1.08810638e-15 6.26161450e-09 1.87628853e-06 3.82643987e-19\n",
      " 1.36327074e-17 9.99998117e-01]\n"
     ]
    },
    {
     "name": "stderr",
     "output_type": "stream",
     "text": [
      "C:\\Users\\harsh\\.conda\\lib\\site-packages\\sklearn\\base.py:450: UserWarning: X does not have valid feature names, but StandardScaler was fitted with feature names\n",
      "  warnings.warn(\n",
      "C:\\Users\\harsh\\.conda\\lib\\site-packages\\sklearn\\base.py:450: UserWarning: X does not have valid feature names, but StandardScaler was fitted with feature names\n",
      "  warnings.warn(\n"
     ]
    },
    {
     "name": "stdout",
     "output_type": "stream",
     "text": [
      "whistling [1.55463431e-12 6.94344799e-11 8.56581816e-23 1.17838125e-11\n",
      " 7.88699324e-16 2.25387341e-08 5.11071880e-07 1.14149842e-18\n",
      " 1.80185981e-17 9.99999466e-01]\n"
     ]
    },
    {
     "name": "stderr",
     "output_type": "stream",
     "text": [
      "C:\\Users\\harsh\\.conda\\lib\\site-packages\\sklearn\\base.py:450: UserWarning: X does not have valid feature names, but StandardScaler was fitted with feature names\n",
      "  warnings.warn(\n",
      "C:\\Users\\harsh\\.conda\\lib\\site-packages\\sklearn\\base.py:450: UserWarning: X does not have valid feature names, but StandardScaler was fitted with feature names\n",
      "  warnings.warn(\n"
     ]
    },
    {
     "name": "stdout",
     "output_type": "stream",
     "text": [
      "whistling [9.39813578e-12 4.15387323e-11 1.68617029e-22 4.77222190e-12\n",
      " 2.70047994e-16 3.90822879e-08 2.59382680e-06 6.62412396e-19\n",
      " 9.65851767e-18 9.99997367e-01]\n"
     ]
    },
    {
     "name": "stderr",
     "output_type": "stream",
     "text": [
      "C:\\Users\\harsh\\.conda\\lib\\site-packages\\sklearn\\base.py:450: UserWarning: X does not have valid feature names, but StandardScaler was fitted with feature names\n",
      "  warnings.warn(\n",
      "C:\\Users\\harsh\\.conda\\lib\\site-packages\\sklearn\\base.py:450: UserWarning: X does not have valid feature names, but StandardScaler was fitted with feature names\n",
      "  warnings.warn(\n"
     ]
    },
    {
     "name": "stdout",
     "output_type": "stream",
     "text": [
      "whistling [4.41845576e-12 4.80424733e-11 1.00118139e-22 8.81933820e-12\n",
      " 1.61150072e-16 2.13485676e-08 2.29561783e-06 5.86928230e-19\n",
      " 5.55258055e-18 9.99997683e-01]\n"
     ]
    },
    {
     "name": "stderr",
     "output_type": "stream",
     "text": [
      "C:\\Users\\harsh\\.conda\\lib\\site-packages\\sklearn\\base.py:450: UserWarning: X does not have valid feature names, but StandardScaler was fitted with feature names\n",
      "  warnings.warn(\n",
      "C:\\Users\\harsh\\.conda\\lib\\site-packages\\sklearn\\base.py:450: UserWarning: X does not have valid feature names, but StandardScaler was fitted with feature names\n",
      "  warnings.warn(\n"
     ]
    },
    {
     "name": "stdout",
     "output_type": "stream",
     "text": [
      "whistling [1.79668329e-12 5.14544286e-11 5.27412603e-23 1.40815933e-11\n",
      " 1.27291626e-16 1.02855586e-08 1.49703819e-06 5.84051642e-19\n",
      " 3.63495655e-18 9.99998493e-01]\n"
     ]
    },
    {
     "name": "stderr",
     "output_type": "stream",
     "text": [
      "C:\\Users\\harsh\\.conda\\lib\\site-packages\\sklearn\\base.py:450: UserWarning: X does not have valid feature names, but StandardScaler was fitted with feature names\n",
      "  warnings.warn(\n",
      "C:\\Users\\harsh\\.conda\\lib\\site-packages\\sklearn\\base.py:450: UserWarning: X does not have valid feature names, but StandardScaler was fitted with feature names\n",
      "  warnings.warn(\n"
     ]
    },
    {
     "name": "stdout",
     "output_type": "stream",
     "text": [
      "whistling [7.43973950e-13 4.31154216e-11 1.56022358e-23 6.95818984e-12\n",
      " 6.48362689e-17 2.91030952e-09 2.21786144e-06 2.84005832e-19\n",
      " 2.98184386e-18 9.99997779e-01]\n"
     ]
    },
    {
     "name": "stderr",
     "output_type": "stream",
     "text": [
      "C:\\Users\\harsh\\.conda\\lib\\site-packages\\sklearn\\base.py:450: UserWarning: X does not have valid feature names, but StandardScaler was fitted with feature names\n",
      "  warnings.warn(\n",
      "C:\\Users\\harsh\\.conda\\lib\\site-packages\\sklearn\\base.py:450: UserWarning: X does not have valid feature names, but StandardScaler was fitted with feature names\n",
      "  warnings.warn(\n"
     ]
    },
    {
     "name": "stdout",
     "output_type": "stream",
     "text": [
      "whistling [4.66306133e-12 2.26774313e-11 4.49816812e-24 2.70494855e-13\n",
      " 6.31720806e-17 3.75063841e-10 6.30935867e-06 4.53633171e-20\n",
      " 1.36370114e-18 9.99993690e-01]\n"
     ]
    },
    {
     "name": "stderr",
     "output_type": "stream",
     "text": [
      "C:\\Users\\harsh\\.conda\\lib\\site-packages\\sklearn\\base.py:450: UserWarning: X does not have valid feature names, but StandardScaler was fitted with feature names\n",
      "  warnings.warn(\n",
      "C:\\Users\\harsh\\.conda\\lib\\site-packages\\sklearn\\base.py:450: UserWarning: X does not have valid feature names, but StandardScaler was fitted with feature names\n",
      "  warnings.warn(\n"
     ]
    },
    {
     "name": "stdout",
     "output_type": "stream",
     "text": [
      "whistling [5.09659188e-12 3.77978385e-12 5.56381122e-25 1.47102230e-14\n",
      " 1.46188064e-17 1.32216030e-11 1.94844350e-05 7.53254131e-22\n",
      " 7.33782106e-20 9.99980516e-01]\n"
     ]
    },
    {
     "name": "stderr",
     "output_type": "stream",
     "text": [
      "C:\\Users\\harsh\\.conda\\lib\\site-packages\\sklearn\\base.py:450: UserWarning: X does not have valid feature names, but StandardScaler was fitted with feature names\n",
      "  warnings.warn(\n",
      "C:\\Users\\harsh\\.conda\\lib\\site-packages\\sklearn\\base.py:450: UserWarning: X does not have valid feature names, but StandardScaler was fitted with feature names\n",
      "  warnings.warn(\n"
     ]
    },
    {
     "name": "stdout",
     "output_type": "stream",
     "text": [
      "whistling [1.69529307e-12 7.28780339e-12 5.05143509e-25 2.25905866e-14\n",
      " 1.43273387e-17 8.67574280e-12 1.36268056e-05 2.87686302e-21\n",
      " 1.43106686e-19 9.99986373e-01]\n"
     ]
    },
    {
     "name": "stderr",
     "output_type": "stream",
     "text": [
      "C:\\Users\\harsh\\.conda\\lib\\site-packages\\sklearn\\base.py:450: UserWarning: X does not have valid feature names, but StandardScaler was fitted with feature names\n",
      "  warnings.warn(\n",
      "C:\\Users\\harsh\\.conda\\lib\\site-packages\\sklearn\\base.py:450: UserWarning: X does not have valid feature names, but StandardScaler was fitted with feature names\n",
      "  warnings.warn(\n"
     ]
    },
    {
     "name": "stdout",
     "output_type": "stream",
     "text": [
      "whistling [2.44257506e-11 2.05361129e-11 1.91741120e-24 6.84658681e-14\n",
      " 6.66295043e-17 1.99676314e-11 1.23569259e-05 2.35274948e-20\n",
      " 7.96518794e-19 9.99987643e-01]\n"
     ]
    },
    {
     "name": "stderr",
     "output_type": "stream",
     "text": [
      "C:\\Users\\harsh\\.conda\\lib\\site-packages\\sklearn\\base.py:450: UserWarning: X does not have valid feature names, but StandardScaler was fitted with feature names\n",
      "  warnings.warn(\n",
      "C:\\Users\\harsh\\.conda\\lib\\site-packages\\sklearn\\base.py:450: UserWarning: X does not have valid feature names, but StandardScaler was fitted with feature names\n",
      "  warnings.warn(\n",
      "C:\\Users\\harsh\\.conda\\lib\\site-packages\\sklearn\\base.py:450: UserWarning: X does not have valid feature names, but StandardScaler was fitted with feature names\n",
      "  warnings.warn(\n"
     ]
    },
    {
     "name": "stdout",
     "output_type": "stream",
     "text": [
      "whistling [1.52188415e-11 2.14971571e-11 2.07600578e-24 1.04985694e-13\n",
      " 4.56302848e-17 9.81933982e-12 1.19008576e-05 3.02654075e-20\n",
      " 7.79354653e-19 9.99988099e-01]\n",
      "whistling"
     ]
    },
    {
     "name": "stderr",
     "output_type": "stream",
     "text": [
      "C:\\Users\\harsh\\.conda\\lib\\site-packages\\sklearn\\base.py:450: UserWarning: X does not have valid feature names, but StandardScaler was fitted with feature names\n",
      "  warnings.warn(\n",
      "C:\\Users\\harsh\\.conda\\lib\\site-packages\\sklearn\\base.py:450: UserWarning: X does not have valid feature names, but StandardScaler was fitted with feature names\n",
      "  warnings.warn(\n",
      "C:\\Users\\harsh\\.conda\\lib\\site-packages\\sklearn\\base.py:450: UserWarning: X does not have valid feature names, but StandardScaler was fitted with feature names\n",
      "  warnings.warn(\n"
     ]
    },
    {
     "name": "stdout",
     "output_type": "stream",
     "text": [
      " [3.13785218e-11 1.84257866e-11 2.21556398e-24 1.23814641e-13\n",
      " 7.51014721e-17 2.00965633e-11 1.10646247e-05 4.01336906e-20\n",
      " 7.69666239e-19 9.99988935e-01]\n",
      "whistling [4.07169385e-11 4.84825883e-11 2.30503323e-23 6.38232500e-13\n",
      " 3.70494124e-16 5.74015133e-11 1.72411616e-05 2.13006395e-19\n",
      " 3.59413768e-18 9.99982759e-01]\n"
     ]
    },
    {
     "name": "stderr",
     "output_type": "stream",
     "text": [
      "C:\\Users\\harsh\\.conda\\lib\\site-packages\\sklearn\\base.py:450: UserWarning: X does not have valid feature names, but StandardScaler was fitted with feature names\n",
      "  warnings.warn(\n",
      "C:\\Users\\harsh\\.conda\\lib\\site-packages\\sklearn\\base.py:450: UserWarning: X does not have valid feature names, but StandardScaler was fitted with feature names\n",
      "  warnings.warn(\n"
     ]
    },
    {
     "name": "stdout",
     "output_type": "stream",
     "text": [
      "whistling [7.26943528e-10 9.81582387e-11 5.18785816e-22 1.60884888e-12\n",
      " 3.22445978e-15 1.19547118e-09 2.99755877e-05 1.41135875e-18\n",
      " 2.85844259e-17 9.99970022e-01]\n"
     ]
    },
    {
     "name": "stderr",
     "output_type": "stream",
     "text": [
      "C:\\Users\\harsh\\.conda\\lib\\site-packages\\sklearn\\base.py:450: UserWarning: X does not have valid feature names, but StandardScaler was fitted with feature names\n",
      "  warnings.warn(\n",
      "C:\\Users\\harsh\\.conda\\lib\\site-packages\\sklearn\\base.py:450: UserWarning: X does not have valid feature names, but StandardScaler was fitted with feature names\n",
      "  warnings.warn(\n",
      "C:\\Users\\harsh\\.conda\\lib\\site-packages\\sklearn\\base.py:450: UserWarning: X does not have valid feature names, but StandardScaler was fitted with feature names\n",
      "  warnings.warn(\n",
      "C:\\Users\\harsh\\.conda\\lib\\site-packages\\sklearn\\base.py:450: UserWarning: X does not have valid feature names, but StandardScaler was fitted with feature names\n",
      "  warnings.warn(\n"
     ]
    },
    {
     "name": "stdout",
     "output_type": "stream",
     "text": [
      "whistling [5.44329873e-09 1.79016272e-10 1.81922476e-21 5.74266713e-12\n",
      " 2.33625745e-15 4.37839897e-09 5.80518984e-05 3.05746531e-18\n",
      " 4.47634952e-17 9.99941938e-01]\n"
     ]
    },
    {
     "name": "stderr",
     "output_type": "stream",
     "text": [
      "C:\\Users\\harsh\\.conda\\lib\\site-packages\\sklearn\\base.py:450: UserWarning: X does not have valid feature names, but StandardScaler was fitted with feature names\n",
      "  warnings.warn(\n"
     ]
    },
    {
     "name": "stdout",
     "output_type": "stream",
     "text": [
      "whistling [2.33176029e-09 1.85155754e-10 8.30119061e-20 3.15199636e-10\n",
      " 5.89060875e-14 2.44582911e-07 9.27657805e-06 4.91691331e-17\n",
      " 3.48327803e-16 9.99990476e-01]\n"
     ]
    },
    {
     "name": "stderr",
     "output_type": "stream",
     "text": [
      "C:\\Users\\harsh\\.conda\\lib\\site-packages\\sklearn\\base.py:450: UserWarning: X does not have valid feature names, but StandardScaler was fitted with feature names\n",
      "  warnings.warn(\n",
      "C:\\Users\\harsh\\.conda\\lib\\site-packages\\sklearn\\base.py:450: UserWarning: X does not have valid feature names, but StandardScaler was fitted with feature names\n",
      "  warnings.warn(\n"
     ]
    },
    {
     "name": "stdout",
     "output_type": "stream",
     "text": [
      "whistling [3.44574076e-09 7.23374512e-11 1.35961421e-19 2.88388724e-11\n",
      " 3.14775370e-14 3.98752498e-07 6.35091624e-06 3.76625622e-17\n",
      " 3.20412188e-16 9.99993247e-01]\n"
     ]
    },
    {
     "name": "stderr",
     "output_type": "stream",
     "text": [
      "C:\\Users\\harsh\\.conda\\lib\\site-packages\\sklearn\\base.py:450: UserWarning: X does not have valid feature names, but StandardScaler was fitted with feature names\n",
      "  warnings.warn(\n"
     ]
    },
    {
     "name": "stdout",
     "output_type": "stream",
     "text": [
      "whistling [5.61860369e-09 1.44118572e-10 1.29263923e-18 7.66712412e-10\n",
      " 4.73378218e-13 1.54241767e-06 7.61228055e-06 5.84303244e-16\n",
      " 2.58886736e-15 9.99990839e-01]\n"
     ]
    },
    {
     "name": "stderr",
     "output_type": "stream",
     "text": [
      "C:\\Users\\harsh\\.conda\\lib\\site-packages\\sklearn\\base.py:450: UserWarning: X does not have valid feature names, but StandardScaler was fitted with feature names\n",
      "  warnings.warn(\n",
      "C:\\Users\\harsh\\.conda\\lib\\site-packages\\sklearn\\base.py:450: UserWarning: X does not have valid feature names, but StandardScaler was fitted with feature names\n",
      "  warnings.warn(\n"
     ]
    },
    {
     "name": "stdout",
     "output_type": "stream",
     "text": [
      "whistling [9.91886764e-09 1.26231121e-10 7.64588018e-19 3.38862239e-10\n",
      " 7.39814826e-13 9.11385209e-07 7.82999226e-06 5.85065226e-16\n",
      " 5.88799808e-15 9.99991248e-01]\n"
     ]
    },
    {
     "name": "stderr",
     "output_type": "stream",
     "text": [
      "C:\\Users\\harsh\\.conda\\lib\\site-packages\\sklearn\\base.py:450: UserWarning: X does not have valid feature names, but StandardScaler was fitted with feature names\n",
      "  warnings.warn(\n",
      "C:\\Users\\harsh\\.conda\\lib\\site-packages\\sklearn\\base.py:450: UserWarning: X does not have valid feature names, but StandardScaler was fitted with feature names\n",
      "  warnings.warn(\n"
     ]
    },
    {
     "name": "stdout",
     "output_type": "stream",
     "text": [
      "whistling [1.73007798e-08 7.58962445e-11 3.79908258e-19 1.09307170e-10\n",
      " 2.58379782e-13 1.65501192e-06 1.70761044e-05 2.00054569e-16\n",
      " 3.12251484e-15 9.99981251e-01]\n"
     ]
    },
    {
     "name": "stderr",
     "output_type": "stream",
     "text": [
      "C:\\Users\\harsh\\.conda\\lib\\site-packages\\sklearn\\base.py:450: UserWarning: X does not have valid feature names, but StandardScaler was fitted with feature names\n",
      "  warnings.warn(\n",
      "C:\\Users\\harsh\\.conda\\lib\\site-packages\\sklearn\\base.py:450: UserWarning: X does not have valid feature names, but StandardScaler was fitted with feature names\n",
      "  warnings.warn(\n",
      "C:\\Users\\harsh\\.conda\\lib\\site-packages\\sklearn\\base.py:450: UserWarning: X does not have valid feature names, but StandardScaler was fitted with feature names\n",
      "  warnings.warn(\n"
     ]
    },
    {
     "name": "stdout",
     "output_type": "stream",
     "text": [
      "whistling [2.40394034e-08 4.88787962e-11 5.88702905e-20 4.07869364e-11\n",
      " 2.27325620e-13 5.15422710e-07 1.01558425e-05 8.31728397e-17\n",
      " 1.94073336e-15 9.99989305e-01]\n",
      "whistling"
     ]
    },
    {
     "name": "stderr",
     "output_type": "stream",
     "text": [
      "C:\\Users\\harsh\\.conda\\lib\\site-packages\\sklearn\\base.py:450: UserWarning: X does not have valid feature names, but StandardScaler was fitted with feature names\n",
      "  warnings.warn(\n",
      "C:\\Users\\harsh\\.conda\\lib\\site-packages\\sklearn\\base.py:450: UserWarning: X does not have valid feature names, but StandardScaler was fitted with feature names\n",
      "  warnings.warn(\n",
      "C:\\Users\\harsh\\.conda\\lib\\site-packages\\sklearn\\base.py:450: UserWarning: X does not have valid feature names, but StandardScaler was fitted with feature names\n",
      "  warnings.warn(\n"
     ]
    },
    {
     "name": "stdout",
     "output_type": "stream",
     "text": [
      " [2.50042163e-08 2.06030414e-10 2.69567719e-20 2.42703292e-10\n",
      " 8.28465411e-13 8.41419312e-08 1.69453610e-05 1.59941863e-16\n",
      " 4.25875111e-15 9.99982945e-01]\n",
      "whistling [1.27727144e-08 2.91773368e-10 2.90235316e-20 6.36822636e-11\n",
      " 3.24475605e-13 8.42232428e-08 2.70136019e-05 1.17544355e-16\n",
      " 2.31815708e-15 9.99972889e-01]\n"
     ]
    },
    {
     "name": "stderr",
     "output_type": "stream",
     "text": [
      "C:\\Users\\harsh\\.conda\\lib\\site-packages\\sklearn\\base.py:450: UserWarning: X does not have valid feature names, but StandardScaler was fitted with feature names\n",
      "  warnings.warn(\n",
      "C:\\Users\\harsh\\.conda\\lib\\site-packages\\sklearn\\base.py:450: UserWarning: X does not have valid feature names, but StandardScaler was fitted with feature names\n",
      "  warnings.warn(\n"
     ]
    },
    {
     "name": "stdout",
     "output_type": "stream",
     "text": [
      "whistling [1.22910079e-07 4.70208934e-10 2.19172773e-20 1.74489195e-11\n",
      " 1.07640853e-13 8.23505390e-08 7.47688476e-05 1.13881159e-16\n",
      " 1.92549928e-15 9.99925025e-01]\n"
     ]
    },
    {
     "name": "stderr",
     "output_type": "stream",
     "text": [
      "C:\\Users\\harsh\\.conda\\lib\\site-packages\\sklearn\\base.py:450: UserWarning: X does not have valid feature names, but StandardScaler was fitted with feature names\n",
      "  warnings.warn(\n",
      "C:\\Users\\harsh\\.conda\\lib\\site-packages\\sklearn\\base.py:450: UserWarning: X does not have valid feature names, but StandardScaler was fitted with feature names\n",
      "  warnings.warn(\n",
      "C:\\Users\\harsh\\.conda\\lib\\site-packages\\sklearn\\base.py:450: UserWarning: X does not have valid feature names, but StandardScaler was fitted with feature names\n",
      "  warnings.warn(\n"
     ]
    },
    {
     "name": "stdout",
     "output_type": "stream",
     "text": [
      "whistling [1.87889905e-07 6.74827086e-10 1.98508281e-20 1.65261383e-11\n",
      " 1.84305746e-13 1.22882929e-07 6.78182245e-05 1.40678326e-16\n",
      " 3.20949675e-15 9.99931870e-01]\n"
     ]
    },
    {
     "name": "stderr",
     "output_type": "stream",
     "text": [
      "C:\\Users\\harsh\\.conda\\lib\\site-packages\\sklearn\\base.py:450: UserWarning: X does not have valid feature names, but StandardScaler was fitted with feature names\n",
      "  warnings.warn(\n",
      "C:\\Users\\harsh\\.conda\\lib\\site-packages\\sklearn\\base.py:450: UserWarning: X does not have valid feature names, but StandardScaler was fitted with feature names\n",
      "  warnings.warn(\n"
     ]
    },
    {
     "name": "stdout",
     "output_type": "stream",
     "text": [
      "whistling [9.83547123e-08 8.83439242e-10 2.79647403e-20 2.63756226e-11\n",
      " 1.41429083e-13 1.15317041e-07 7.24052103e-05 1.39591433e-16\n",
      " 3.65162020e-15 9.99927380e-01]\n"
     ]
    },
    {
     "name": "stderr",
     "output_type": "stream",
     "text": [
      "C:\\Users\\harsh\\.conda\\lib\\site-packages\\sklearn\\base.py:450: UserWarning: X does not have valid feature names, but StandardScaler was fitted with feature names\n",
      "  warnings.warn(\n"
     ]
    },
    {
     "name": "stdout",
     "output_type": "stream",
     "text": [
      "whistling [1.21515662e-07 1.19674596e-09 3.02878279e-20 2.65145524e-11\n",
      " 2.16283970e-13 1.27554254e-07 5.85058268e-05 1.85178035e-16\n",
      " 6.34739736e-15 9.99941244e-01]\n"
     ]
    },
    {
     "name": "stderr",
     "output_type": "stream",
     "text": [
      "C:\\Users\\harsh\\.conda\\lib\\site-packages\\sklearn\\base.py:450: UserWarning: X does not have valid feature names, but StandardScaler was fitted with feature names\n",
      "  warnings.warn(\n",
      "C:\\Users\\harsh\\.conda\\lib\\site-packages\\sklearn\\base.py:450: UserWarning: X does not have valid feature names, but StandardScaler was fitted with feature names\n",
      "  warnings.warn(\n",
      "C:\\Users\\harsh\\.conda\\lib\\site-packages\\sklearn\\base.py:450: UserWarning: X does not have valid feature names, but StandardScaler was fitted with feature names\n",
      "  warnings.warn(\n",
      "C:\\Users\\harsh\\.conda\\lib\\site-packages\\sklearn\\base.py:450: UserWarning: X does not have valid feature names, but StandardScaler was fitted with feature names\n",
      "  warnings.warn(\n"
     ]
    },
    {
     "name": "stdout",
     "output_type": "stream",
     "text": [
      "whistling [7.24698429e-08 9.03679718e-10 2.05123143e-20 2.50536347e-11\n",
      " 1.39389124e-13 8.98490468e-08 4.09416045e-05 1.66061299e-16\n",
      " 6.18127420e-15 9.99958895e-01]\n",
      "whistling [1.41911357e-08 7.54052924e-10 5.69848771e-20 7.66653189e-11\n",
      " 2.43345281e-13 1.36977461e-07 2.47874232e-05 2.85408022e-16\n",
      " 8.95340613e-15 9.99975061e-01]\n"
     ]
    },
    {
     "name": "stderr",
     "output_type": "stream",
     "text": [
      "C:\\Users\\harsh\\.conda\\lib\\site-packages\\sklearn\\base.py:450: UserWarning: X does not have valid feature names, but StandardScaler was fitted with feature names\n",
      "  warnings.warn(\n",
      "C:\\Users\\harsh\\.conda\\lib\\site-packages\\sklearn\\base.py:450: UserWarning: X does not have valid feature names, but StandardScaler was fitted with feature names\n",
      "  warnings.warn(\n"
     ]
    },
    {
     "name": "stdout",
     "output_type": "stream",
     "text": [
      "whistling [1.20965017e-08 3.45280221e-10 4.64801448e-20 3.01539196e-11\n",
      " 1.45949842e-13 1.82431057e-07 2.02564701e-05 1.77734996e-16\n",
      " 8.44022323e-15 9.99979549e-01]\n"
     ]
    },
    {
     "name": "stderr",
     "output_type": "stream",
     "text": [
      "C:\\Users\\harsh\\.conda\\lib\\site-packages\\sklearn\\base.py:450: UserWarning: X does not have valid feature names, but StandardScaler was fitted with feature names\n",
      "  warnings.warn(\n",
      "C:\\Users\\harsh\\.conda\\lib\\site-packages\\sklearn\\base.py:450: UserWarning: X does not have valid feature names, but StandardScaler was fitted with feature names\n",
      "  warnings.warn(\n",
      "C:\\Users\\harsh\\.conda\\lib\\site-packages\\sklearn\\base.py:450: UserWarning: X does not have valid feature names, but StandardScaler was fitted with feature names\n",
      "  warnings.warn(\n"
     ]
    },
    {
     "name": "stdout",
     "output_type": "stream",
     "text": [
      "whistling [3.03436267e-08 4.30548419e-10 1.10540425e-19 5.27508855e-11\n",
      " 2.16078216e-13 5.34470687e-07 3.43753673e-05 2.23951133e-16\n",
      " 1.17832977e-14 9.99965059e-01]\n",
      "whistling [4.19707235e-08 6.77875696e-10 8.13217721e-20 1.55365223e-10\n",
      " 2.97835963e-13 2.46693626e-07 4.74702474e-05 1.71703194e-16\n",
      " 1.19159120e-14 9.99952240e-01]\n"
     ]
    },
    {
     "name": "stderr",
     "output_type": "stream",
     "text": [
      "C:\\Users\\harsh\\.conda\\lib\\site-packages\\sklearn\\base.py:450: UserWarning: X does not have valid feature names, but StandardScaler was fitted with feature names\n",
      "  warnings.warn(\n",
      "C:\\Users\\harsh\\.conda\\lib\\site-packages\\sklearn\\base.py:450: UserWarning: X does not have valid feature names, but StandardScaler was fitted with feature names\n",
      "  warnings.warn(\n",
      "C:\\Users\\harsh\\.conda\\lib\\site-packages\\sklearn\\base.py:450: UserWarning: X does not have valid feature names, but StandardScaler was fitted with feature names\n",
      "  warnings.warn(\n"
     ]
    },
    {
     "name": "stdout",
     "output_type": "stream",
     "text": [
      "whistling [3.80446366e-08 8.78569601e-10 9.65160142e-20 1.15578569e-10\n",
      " 3.19623378e-13 3.02588366e-07 6.06722577e-05 1.76620816e-16\n",
      " 1.32322776e-14 9.99938986e-01]\n"
     ]
    },
    {
     "name": "stderr",
     "output_type": "stream",
     "text": [
      "C:\\Users\\harsh\\.conda\\lib\\site-packages\\sklearn\\base.py:450: UserWarning: X does not have valid feature names, but StandardScaler was fitted with feature names\n",
      "  warnings.warn(\n",
      "C:\\Users\\harsh\\.conda\\lib\\site-packages\\sklearn\\base.py:450: UserWarning: X does not have valid feature names, but StandardScaler was fitted with feature names\n",
      "  warnings.warn(\n"
     ]
    },
    {
     "name": "stdout",
     "output_type": "stream",
     "text": [
      "whistling [7.70314885e-08 7.26737733e-10 7.67950719e-20 3.65374926e-10\n",
      " 7.37699567e-13 2.25788425e-07 4.96175434e-05 1.50527366e-16\n",
      " 2.06210326e-14 9.99950079e-01]\n"
     ]
    },
    {
     "name": "stderr",
     "output_type": "stream",
     "text": [
      "C:\\Users\\harsh\\.conda\\lib\\site-packages\\sklearn\\base.py:450: UserWarning: X does not have valid feature names, but StandardScaler was fitted with feature names\n",
      "  warnings.warn(\n",
      "C:\\Users\\harsh\\.conda\\lib\\site-packages\\sklearn\\base.py:450: UserWarning: X does not have valid feature names, but StandardScaler was fitted with feature names\n",
      "  warnings.warn(\n",
      "C:\\Users\\harsh\\.conda\\lib\\site-packages\\sklearn\\base.py:450: UserWarning: X does not have valid feature names, but StandardScaler was fitted with feature names\n",
      "  warnings.warn(\n"
     ]
    },
    {
     "name": "stdout",
     "output_type": "stream",
     "text": [
      "whistling [1.39971699e-07 3.45822462e-10 1.05955324e-19 2.44337754e-10\n",
      " 4.72123067e-13 3.55279451e-07 1.66251635e-05 1.51669948e-16\n",
      " 1.61205897e-14 9.99982879e-01]\n"
     ]
    },
    {
     "name": "stderr",
     "output_type": "stream",
     "text": [
      "C:\\Users\\harsh\\.conda\\lib\\site-packages\\sklearn\\base.py:450: UserWarning: X does not have valid feature names, but StandardScaler was fitted with feature names\n",
      "  warnings.warn(\n",
      "C:\\Users\\harsh\\.conda\\lib\\site-packages\\sklearn\\base.py:450: UserWarning: X does not have valid feature names, but StandardScaler was fitted with feature names\n",
      "  warnings.warn(\n",
      "C:\\Users\\harsh\\.conda\\lib\\site-packages\\sklearn\\base.py:450: UserWarning: X does not have valid feature names, but StandardScaler was fitted with feature names\n",
      "  warnings.warn(\n"
     ]
    },
    {
     "name": "stdout",
     "output_type": "stream",
     "text": [
      "whistling [2.20513458e-07 2.22652284e-10 9.16611223e-20 1.33704133e-10\n",
      " 4.41565215e-13 6.75565742e-07 9.51068215e-06 1.10924512e-16\n",
      " 2.37878895e-14 9.99989593e-01]\n",
      "whistling [1.21964344e-06 1.92743609e-10 1.22520789e-19 5.21509462e-11\n",
      " 1.78125688e-13 4.59782887e-07 1.38522950e-05 1.89410340e-17\n",
      " 5.24529682e-14 9.99984468e-01]\n"
     ]
    },
    {
     "name": "stderr",
     "output_type": "stream",
     "text": [
      "C:\\Users\\harsh\\.conda\\lib\\site-packages\\sklearn\\base.py:450: UserWarning: X does not have valid feature names, but StandardScaler was fitted with feature names\n",
      "  warnings.warn(\n",
      "C:\\Users\\harsh\\.conda\\lib\\site-packages\\sklearn\\base.py:450: UserWarning: X does not have valid feature names, but StandardScaler was fitted with feature names\n",
      "  warnings.warn(\n"
     ]
    },
    {
     "name": "stdout",
     "output_type": "stream",
     "text": [
      "whistling [1.22268457e-06 8.15970161e-10 3.71279100e-19 1.01826060e-09\n",
      " 2.47044924e-12 9.38198168e-07 6.58909063e-06 2.05898085e-16\n",
      " 3.47775153e-13 9.99991248e-01]\n"
     ]
    },
    {
     "name": "stderr",
     "output_type": "stream",
     "text": [
      "C:\\Users\\harsh\\.conda\\lib\\site-packages\\sklearn\\base.py:450: UserWarning: X does not have valid feature names, but StandardScaler was fitted with feature names\n",
      "  warnings.warn(\n",
      "C:\\Users\\harsh\\.conda\\lib\\site-packages\\sklearn\\base.py:450: UserWarning: X does not have valid feature names, but StandardScaler was fitted with feature names\n",
      "  warnings.warn(\n"
     ]
    },
    {
     "name": "stdout",
     "output_type": "stream",
     "text": [
      "whistling [6.47840981e-07 1.56105865e-09 2.10222308e-17 1.38062865e-10\n",
      " 2.42437253e-09 2.92012518e-05 9.78196834e-07 1.76359852e-15\n",
      " 8.18617956e-13 9.99969169e-01]\n"
     ]
    },
    {
     "name": "stderr",
     "output_type": "stream",
     "text": [
      "C:\\Users\\harsh\\.conda\\lib\\site-packages\\sklearn\\base.py:450: UserWarning: X does not have valid feature names, but StandardScaler was fitted with feature names\n",
      "  warnings.warn(\n",
      "C:\\Users\\harsh\\.conda\\lib\\site-packages\\sklearn\\base.py:450: UserWarning: X does not have valid feature names, but StandardScaler was fitted with feature names\n",
      "  warnings.warn(\n"
     ]
    },
    {
     "name": "stdout",
     "output_type": "stream",
     "text": [
      "whistling [3.72425999e-06 6.96938230e-09 3.23861501e-17 1.99430989e-08\n",
      " 4.33371130e-07 1.07128804e-05 9.03393300e-07 5.81723920e-14\n",
      " 1.14071227e-11 9.99984199e-01]\n"
     ]
    },
    {
     "name": "stderr",
     "output_type": "stream",
     "text": [
      "C:\\Users\\harsh\\.conda\\lib\\site-packages\\sklearn\\base.py:450: UserWarning: X does not have valid feature names, but StandardScaler was fitted with feature names\n",
      "  warnings.warn(\n",
      "C:\\Users\\harsh\\.conda\\lib\\site-packages\\sklearn\\base.py:450: UserWarning: X does not have valid feature names, but StandardScaler was fitted with feature names\n",
      "  warnings.warn(\n"
     ]
    },
    {
     "name": "stdout",
     "output_type": "stream",
     "text": [
      "whistling [9.49874946e-05 1.37802851e-08 4.73302914e-17 1.84876824e-07\n",
      " 4.07172151e-06 1.56102937e-05 2.45352883e-07 3.95154957e-13\n",
      " 3.13293218e-11 9.99884886e-01]\n"
     ]
    },
    {
     "name": "stderr",
     "output_type": "stream",
     "text": [
      "C:\\Users\\harsh\\.conda\\lib\\site-packages\\sklearn\\base.py:450: UserWarning: X does not have valid feature names, but StandardScaler was fitted with feature names\n",
      "  warnings.warn(\n",
      "C:\\Users\\harsh\\.conda\\lib\\site-packages\\sklearn\\base.py:450: UserWarning: X does not have valid feature names, but StandardScaler was fitted with feature names\n",
      "  warnings.warn(\n"
     ]
    },
    {
     "name": "stdout",
     "output_type": "stream",
     "text": [
      "whistling [2.80956613e-03 1.69512372e-08 1.17866323e-16 4.65741144e-08\n",
      " 7.59651653e-06 3.32219259e-05 4.52453748e-08 4.10530398e-13\n",
      " 1.41110744e-10 9.97149507e-01]\n"
     ]
    },
    {
     "name": "stderr",
     "output_type": "stream",
     "text": [
      "C:\\Users\\harsh\\.conda\\lib\\site-packages\\sklearn\\base.py:450: UserWarning: X does not have valid feature names, but StandardScaler was fitted with feature names\n",
      "  warnings.warn(\n",
      "C:\\Users\\harsh\\.conda\\lib\\site-packages\\sklearn\\base.py:450: UserWarning: X does not have valid feature names, but StandardScaler was fitted with feature names\n",
      "  warnings.warn(\n"
     ]
    },
    {
     "name": "stdout",
     "output_type": "stream",
     "text": [
      "whistling [6.54941315e-05 1.63281606e-08 6.95812212e-17 1.08053422e-08\n",
      " 4.75081096e-07 4.98274914e-06 5.06439967e-08 3.37386096e-14\n",
      " 2.73631020e-11 9.99928970e-01]\n"
     ]
    },
    {
     "name": "stderr",
     "output_type": "stream",
     "text": [
      "C:\\Users\\harsh\\.conda\\lib\\site-packages\\sklearn\\base.py:450: UserWarning: X does not have valid feature names, but StandardScaler was fitted with feature names\n",
      "  warnings.warn(\n",
      "C:\\Users\\harsh\\.conda\\lib\\site-packages\\sklearn\\base.py:450: UserWarning: X does not have valid feature names, but StandardScaler was fitted with feature names\n",
      "  warnings.warn(\n"
     ]
    },
    {
     "name": "stdout",
     "output_type": "stream",
     "text": [
      "whistling [2.05397743e-05 2.62927590e-08 5.36727903e-17 2.13423984e-08\n",
      " 8.85863661e-08 4.72870361e-06 1.24136148e-07 1.91824587e-14\n",
      " 1.55346403e-11 9.99974471e-01]\n"
     ]
    },
    {
     "name": "stderr",
     "output_type": "stream",
     "text": [
      "C:\\Users\\harsh\\.conda\\lib\\site-packages\\sklearn\\base.py:450: UserWarning: X does not have valid feature names, but StandardScaler was fitted with feature names\n",
      "  warnings.warn(\n",
      "C:\\Users\\harsh\\.conda\\lib\\site-packages\\sklearn\\base.py:450: UserWarning: X does not have valid feature names, but StandardScaler was fitted with feature names\n",
      "  warnings.warn(\n"
     ]
    },
    {
     "name": "stdout",
     "output_type": "stream",
     "text": [
      "whistling [1.57902796e-03 3.62286628e-09 1.59404785e-17 4.09454815e-09\n",
      " 8.62485560e-08 4.26734548e-06 7.02642662e-08 1.80612750e-15\n",
      " 3.48128026e-12 9.98416540e-01]\n"
     ]
    },
    {
     "name": "stderr",
     "output_type": "stream",
     "text": [
      "C:\\Users\\harsh\\.conda\\lib\\site-packages\\sklearn\\base.py:450: UserWarning: X does not have valid feature names, but StandardScaler was fitted with feature names\n",
      "  warnings.warn(\n",
      "C:\\Users\\harsh\\.conda\\lib\\site-packages\\sklearn\\base.py:450: UserWarning: X does not have valid feature names, but StandardScaler was fitted with feature names\n",
      "  warnings.warn(\n"
     ]
    },
    {
     "name": "stdout",
     "output_type": "stream",
     "text": [
      "FEMALE WALKING [9.99906914e-01 2.06551379e-13 5.33587850e-22 1.79129858e-09\n",
      " 1.03633405e-07 1.89567914e-09 2.43081295e-11 3.29380538e-20\n",
      " 4.63424580e-15 9.29786919e-05]\n"
     ]
    },
    {
     "name": "stderr",
     "output_type": "stream",
     "text": [
      "C:\\Users\\harsh\\.conda\\lib\\site-packages\\sklearn\\base.py:450: UserWarning: X does not have valid feature names, but StandardScaler was fitted with feature names\n",
      "  warnings.warn(\n",
      "C:\\Users\\harsh\\.conda\\lib\\site-packages\\sklearn\\base.py:450: UserWarning: X does not have valid feature names, but StandardScaler was fitted with feature names\n",
      "  warnings.warn(\n"
     ]
    },
    {
     "name": "stdout",
     "output_type": "stream",
     "text": [
      "Super Man [1.93447541e-01 2.47647095e-10 3.64430657e-07 3.18465111e-02\n",
      " 5.18896729e-09 7.74704674e-01 4.18012174e-13 2.64994756e-08\n",
      " 4.07160550e-10 8.76561630e-07]\n"
     ]
    },
    {
     "name": "stderr",
     "output_type": "stream",
     "text": [
      "C:\\Users\\harsh\\.conda\\lib\\site-packages\\sklearn\\base.py:450: UserWarning: X does not have valid feature names, but StandardScaler was fitted with feature names\n",
      "  warnings.warn(\n",
      "C:\\Users\\harsh\\.conda\\lib\\site-packages\\sklearn\\base.py:450: UserWarning: X does not have valid feature names, but StandardScaler was fitted with feature names\n",
      "  warnings.warn(\n"
     ]
    },
    {
     "name": "stdout",
     "output_type": "stream",
     "text": [
      "FEMALE WALKING [5.12248753e-01 5.31078585e-09 1.34972121e-06 4.84289418e-01\n",
      " 7.54129360e-08 3.46029327e-03 1.54805526e-14 7.52248369e-08\n",
      " 2.43831841e-08 6.27035254e-09]\n"
     ]
    },
    {
     "name": "stderr",
     "output_type": "stream",
     "text": [
      "C:\\Users\\harsh\\.conda\\lib\\site-packages\\sklearn\\base.py:450: UserWarning: X does not have valid feature names, but StandardScaler was fitted with feature names\n",
      "  warnings.warn(\n",
      "C:\\Users\\harsh\\.conda\\lib\\site-packages\\sklearn\\base.py:450: UserWarning: X does not have valid feature names, but StandardScaler was fitted with feature names\n",
      "  warnings.warn(\n"
     ]
    },
    {
     "name": "stdout",
     "output_type": "stream",
     "text": [
      "FEMALE WALKING [9.22725559e-01 1.26246671e-08 8.56646983e-08 7.58315676e-02\n",
      " 5.04975892e-08 1.44261239e-03 5.54283813e-14 2.37278832e-08\n",
      " 7.08478580e-09 8.10461776e-08]\n"
     ]
    },
    {
     "name": "stderr",
     "output_type": "stream",
     "text": [
      "C:\\Users\\harsh\\.conda\\lib\\site-packages\\sklearn\\base.py:450: UserWarning: X does not have valid feature names, but StandardScaler was fitted with feature names\n",
      "  warnings.warn(\n",
      "C:\\Users\\harsh\\.conda\\lib\\site-packages\\sklearn\\base.py:450: UserWarning: X does not have valid feature names, but StandardScaler was fitted with feature names\n",
      "  warnings.warn(\n"
     ]
    },
    {
     "name": "stdout",
     "output_type": "stream",
     "text": [
      "FEMALE WALKING [9.26669105e-01 1.97396449e-08 1.42592534e-07 7.09426424e-02\n",
      " 7.72882519e-08 2.38767561e-03 1.95677498e-13 1.01110526e-08\n",
      " 4.18787679e-09 3.23357300e-07]\n"
     ]
    },
    {
     "name": "stderr",
     "output_type": "stream",
     "text": [
      "C:\\Users\\harsh\\.conda\\lib\\site-packages\\sklearn\\base.py:450: UserWarning: X does not have valid feature names, but StandardScaler was fitted with feature names\n",
      "  warnings.warn(\n",
      "C:\\Users\\harsh\\.conda\\lib\\site-packages\\sklearn\\base.py:450: UserWarning: X does not have valid feature names, but StandardScaler was fitted with feature names\n",
      "  warnings.warn(\n"
     ]
    },
    {
     "name": "stdout",
     "output_type": "stream",
     "text": [
      "FEMALE WALKING [9.92006429e-01 3.83831080e-09 9.66936990e-09 7.50586650e-03\n",
      " 1.16333804e-08 4.87596674e-04 7.30018663e-14 1.26579067e-09\n",
      " 6.80641252e-10 8.08734327e-08]\n"
     ]
    },
    {
     "name": "stderr",
     "output_type": "stream",
     "text": [
      "C:\\Users\\harsh\\.conda\\lib\\site-packages\\sklearn\\base.py:450: UserWarning: X does not have valid feature names, but StandardScaler was fitted with feature names\n",
      "  warnings.warn(\n",
      "C:\\Users\\harsh\\.conda\\lib\\site-packages\\sklearn\\base.py:450: UserWarning: X does not have valid feature names, but StandardScaler was fitted with feature names\n",
      "  warnings.warn(\n"
     ]
    },
    {
     "name": "stdout",
     "output_type": "stream",
     "text": [
      "FEMALE WALKING [9.11487705e-01 5.34529767e-09 2.37730420e-08 8.77999634e-02\n",
      " 9.17978365e-08 7.12085761e-04 1.93964154e-13 1.90934446e-09\n",
      " 1.28926484e-09 1.21843102e-07]\n"
     ]
    },
    {
     "name": "stderr",
     "output_type": "stream",
     "text": [
      "C:\\Users\\harsh\\.conda\\lib\\site-packages\\sklearn\\base.py:450: UserWarning: X does not have valid feature names, but StandardScaler was fitted with feature names\n",
      "  warnings.warn(\n",
      "C:\\Users\\harsh\\.conda\\lib\\site-packages\\sklearn\\base.py:450: UserWarning: X does not have valid feature names, but StandardScaler was fitted with feature names\n",
      "  warnings.warn(\n"
     ]
    },
    {
     "name": "stdout",
     "output_type": "stream",
     "text": [
      "FEMALE WALKING [9.81052547e-01 9.10439460e-10 1.35794968e-08 1.81469240e-02\n",
      " 3.39259945e-08 8.00452904e-04 7.69383422e-14 4.03965278e-10\n",
      " 2.20197223e-10 2.73721796e-08]\n"
     ]
    },
    {
     "name": "stderr",
     "output_type": "stream",
     "text": [
      "C:\\Users\\harsh\\.conda\\lib\\site-packages\\sklearn\\base.py:450: UserWarning: X does not have valid feature names, but StandardScaler was fitted with feature names\n",
      "  warnings.warn(\n",
      "C:\\Users\\harsh\\.conda\\lib\\site-packages\\sklearn\\base.py:450: UserWarning: X does not have valid feature names, but StandardScaler was fitted with feature names\n",
      "  warnings.warn(\n"
     ]
    },
    {
     "name": "stdout",
     "output_type": "stream",
     "text": [
      "FEMALE WALKING [9.94154490e-01 3.83412009e-10 6.53989033e-09 5.48155065e-03\n",
      " 1.65696707e-08 3.63911544e-04 8.63901538e-14 8.54936141e-11\n",
      " 6.75216407e-11 2.41931074e-08]\n"
     ]
    },
    {
     "name": "stderr",
     "output_type": "stream",
     "text": [
      "C:\\Users\\harsh\\.conda\\lib\\site-packages\\sklearn\\base.py:450: UserWarning: X does not have valid feature names, but StandardScaler was fitted with feature names\n",
      "  warnings.warn(\n",
      "C:\\Users\\harsh\\.conda\\lib\\site-packages\\sklearn\\base.py:450: UserWarning: X does not have valid feature names, but StandardScaler was fitted with feature names\n",
      "  warnings.warn(\n",
      "C:\\Users\\harsh\\.conda\\lib\\site-packages\\sklearn\\base.py:450: UserWarning: X does not have valid feature names, but StandardScaler was fitted with feature names\n",
      "  warnings.warn(\n"
     ]
    },
    {
     "name": "stdout",
     "output_type": "stream",
     "text": [
      "FEMALE WALKING [9.84409863e-01 2.95755730e-10 1.54435945e-08 1.49336969e-02\n",
      " 3.51217530e-08 6.56367911e-04 3.55361591e-13 3.43489570e-11\n",
      " 3.38286176e-11 2.11260305e-08]\n"
     ]
    },
    {
     "name": "stderr",
     "output_type": "stream",
     "text": [
      "C:\\Users\\harsh\\.conda\\lib\\site-packages\\sklearn\\base.py:450: UserWarning: X does not have valid feature names, but StandardScaler was fitted with feature names\n",
      "  warnings.warn(\n"
     ]
    },
    {
     "name": "stdout",
     "output_type": "stream",
     "text": [
      "FEMALE WALKING [9.96132039e-01 7.41995890e-11 4.90009274e-09 3.42860022e-03\n",
      " 7.64926148e-09 4.39343069e-04 1.24559716e-13 9.13584728e-12\n",
      " 1.00540015e-11 5.53729583e-09]\n"
     ]
    },
    {
     "name": "stderr",
     "output_type": "stream",
     "text": [
      "C:\\Users\\harsh\\.conda\\lib\\site-packages\\sklearn\\base.py:450: UserWarning: X does not have valid feature names, but StandardScaler was fitted with feature names\n",
      "  warnings.warn(\n",
      "C:\\Users\\harsh\\.conda\\lib\\site-packages\\sklearn\\base.py:450: UserWarning: X does not have valid feature names, but StandardScaler was fitted with feature names\n",
      "  warnings.warn(\n"
     ]
    },
    {
     "name": "stdout",
     "output_type": "stream",
     "text": [
      "FEMALE WALKING [9.67815048e-01 2.09801637e-11 9.34491708e-09 3.20457305e-02\n",
      " 3.55395319e-08 1.39175485e-04 8.03799260e-14 3.44624415e-12\n",
      " 4.80203497e-12 9.70563869e-10]\n"
     ]
    },
    {
     "name": "stderr",
     "output_type": "stream",
     "text": [
      "C:\\Users\\harsh\\.conda\\lib\\site-packages\\sklearn\\base.py:450: UserWarning: X does not have valid feature names, but StandardScaler was fitted with feature names\n",
      "  warnings.warn(\n",
      "C:\\Users\\harsh\\.conda\\lib\\site-packages\\sklearn\\base.py:450: UserWarning: X does not have valid feature names, but StandardScaler was fitted with feature names\n",
      "  warnings.warn(\n",
      "C:\\Users\\harsh\\.conda\\lib\\site-packages\\sklearn\\base.py:450: UserWarning: X does not have valid feature names, but StandardScaler was fitted with feature names\n",
      "  warnings.warn(\n"
     ]
    },
    {
     "name": "stdout",
     "output_type": "stream",
     "text": [
      "FEMALE WALKING [9.94108784e-01 3.99498916e-12 7.70923603e-09 5.41650013e-03\n",
      " 1.68502043e-08 4.74690676e-04 1.08659537e-13 5.61517159e-13\n",
      " 7.27360639e-13 4.85407117e-10]\n"
     ]
    },
    {
     "name": "stderr",
     "output_type": "stream",
     "text": [
      "C:\\Users\\harsh\\.conda\\lib\\site-packages\\sklearn\\base.py:450: UserWarning: X does not have valid feature names, but StandardScaler was fitted with feature names\n",
      "  warnings.warn(\n",
      "C:\\Users\\harsh\\.conda\\lib\\site-packages\\sklearn\\base.py:450: UserWarning: X does not have valid feature names, but StandardScaler was fitted with feature names\n",
      "  warnings.warn(\n",
      "C:\\Users\\harsh\\.conda\\lib\\site-packages\\sklearn\\base.py:450: UserWarning: X does not have valid feature names, but StandardScaler was fitted with feature names\n",
      "  warnings.warn(\n"
     ]
    },
    {
     "name": "stdout",
     "output_type": "stream",
     "text": [
      "FEMALE WALKING [9.87450441e-01 6.52842390e-12 1.28787758e-08 1.21266543e-02\n",
      " 2.94981592e-08 4.22861561e-04 7.04241552e-13 2.40337995e-13\n",
      " 3.57545619e-13 6.22345709e-10]\n"
     ]
    },
    {
     "name": "stderr",
     "output_type": "stream",
     "text": [
      "C:\\Users\\harsh\\.conda\\lib\\site-packages\\sklearn\\base.py:450: UserWarning: X does not have valid feature names, but StandardScaler was fitted with feature names\n",
      "  warnings.warn(\n"
     ]
    },
    {
     "name": "stdout",
     "output_type": "stream",
     "text": [
      "FEMALE WALKING [9.93837786e-01 3.85978427e-13 7.99948477e-09 5.83893157e-03\n",
      " 1.88111585e-08 3.23255843e-04 4.25833264e-13 7.42223316e-15\n",
      " 1.24876869e-14 5.95848161e-11]\n"
     ]
    },
    {
     "name": "stderr",
     "output_type": "stream",
     "text": [
      "C:\\Users\\harsh\\.conda\\lib\\site-packages\\sklearn\\base.py:450: UserWarning: X does not have valid feature names, but StandardScaler was fitted with feature names\n",
      "  warnings.warn(\n",
      "C:\\Users\\harsh\\.conda\\lib\\site-packages\\sklearn\\base.py:450: UserWarning: X does not have valid feature names, but StandardScaler was fitted with feature names\n",
      "  warnings.warn(\n"
     ]
    },
    {
     "name": "stdout",
     "output_type": "stream",
     "text": [
      "FEMALE WALKING [9.86270195e-01 2.83499396e-13 5.55287513e-09 1.34493518e-02\n",
      " 7.25315254e-08 2.80375343e-04 8.33161289e-13 5.28339948e-15\n",
      " 1.31056741e-14 4.57095007e-11]\n"
     ]
    },
    {
     "name": "stderr",
     "output_type": "stream",
     "text": [
      "C:\\Users\\harsh\\.conda\\lib\\site-packages\\sklearn\\base.py:450: UserWarning: X does not have valid feature names, but StandardScaler was fitted with feature names\n",
      "  warnings.warn(\n"
     ]
    },
    {
     "name": "stdout",
     "output_type": "stream",
     "text": [
      "FEMALE WALKING [9.88301596e-01 4.93969290e-14 2.86641037e-09 1.16317507e-02\n",
      " 9.46033316e-08 6.65562967e-05 9.35166493e-13 9.58915377e-16\n",
      " 6.62213026e-15 8.19977737e-12]\n"
     ]
    },
    {
     "name": "stderr",
     "output_type": "stream",
     "text": [
      "C:\\Users\\harsh\\.conda\\lib\\site-packages\\sklearn\\base.py:450: UserWarning: X does not have valid feature names, but StandardScaler was fitted with feature names\n",
      "  warnings.warn(\n",
      "C:\\Users\\harsh\\.conda\\lib\\site-packages\\sklearn\\base.py:450: UserWarning: X does not have valid feature names, but StandardScaler was fitted with feature names\n",
      "  warnings.warn(\n"
     ]
    },
    {
     "name": "stdout",
     "output_type": "stream",
     "text": [
      "FEMALE WALKING [9.96479234e-01 1.93045215e-15 6.70260252e-09 3.33212380e-03\n",
      " 3.16432158e-08 1.88604178e-04 5.45559944e-13 2.40586670e-17\n",
      " 1.36549360e-16 2.09409255e-13]\n"
     ]
    },
    {
     "name": "stderr",
     "output_type": "stream",
     "text": [
      "C:\\Users\\harsh\\.conda\\lib\\site-packages\\sklearn\\base.py:450: UserWarning: X does not have valid feature names, but StandardScaler was fitted with feature names\n",
      "  warnings.warn(\n",
      "C:\\Users\\harsh\\.conda\\lib\\site-packages\\sklearn\\base.py:450: UserWarning: X does not have valid feature names, but StandardScaler was fitted with feature names\n",
      "  warnings.warn(\n",
      "C:\\Users\\harsh\\.conda\\lib\\site-packages\\sklearn\\base.py:450: UserWarning: X does not have valid feature names, but StandardScaler was fitted with feature names\n",
      "  warnings.warn(\n"
     ]
    },
    {
     "name": "stdout",
     "output_type": "stream",
     "text": [
      "FEMALE WALKING [9.94644811e-01 1.38640260e-15 6.41290356e-09 5.27106707e-03\n",
      " 2.96333004e-08 8.40858060e-05 1.95417029e-11 1.38683325e-18\n",
      " 1.49246721e-17 1.79213852e-13]\n"
     ]
    },
    {
     "name": "stderr",
     "output_type": "stream",
     "text": [
      "C:\\Users\\harsh\\.conda\\lib\\site-packages\\sklearn\\base.py:450: UserWarning: X does not have valid feature names, but StandardScaler was fitted with feature names\n",
      "  warnings.warn(\n"
     ]
    },
    {
     "name": "stdout",
     "output_type": "stream",
     "text": [
      "FEMALE WALKING [9.45422681e-01 6.28447263e-17 3.28319166e-08 5.44964996e-02\n",
      " 1.49205916e-07 8.06377776e-05 9.48162887e-11 1.67417650e-20\n",
      " 2.51998779e-19 1.25929657e-14]\n"
     ]
    },
    {
     "name": "stderr",
     "output_type": "stream",
     "text": [
      "C:\\Users\\harsh\\.conda\\lib\\site-packages\\sklearn\\base.py:450: UserWarning: X does not have valid feature names, but StandardScaler was fitted with feature names\n",
      "  warnings.warn(\n",
      "C:\\Users\\harsh\\.conda\\lib\\site-packages\\sklearn\\base.py:450: UserWarning: X does not have valid feature names, but StandardScaler was fitted with feature names\n",
      "  warnings.warn(\n"
     ]
    },
    {
     "name": "stdout",
     "output_type": "stream",
     "text": [
      "FEMALE WALKING [9.99171797e-01 5.65167564e-19 1.65546268e-08 6.33835833e-04\n",
      " 7.07594532e-08 1.94279515e-04 2.11996665e-10 8.65846679e-23\n",
      " 2.38928869e-21 3.37770697e-16]\n"
     ]
    },
    {
     "name": "stderr",
     "output_type": "stream",
     "text": [
      "C:\\Users\\harsh\\.conda\\lib\\site-packages\\sklearn\\base.py:450: UserWarning: X does not have valid feature names, but StandardScaler was fitted with feature names\n",
      "  warnings.warn(\n",
      "C:\\Users\\harsh\\.conda\\lib\\site-packages\\sklearn\\base.py:450: UserWarning: X does not have valid feature names, but StandardScaler was fitted with feature names\n",
      "  warnings.warn(\n"
     ]
    },
    {
     "name": "stdout",
     "output_type": "stream",
     "text": [
      "FEMALE WALKING [8.05298110e-01 1.39931600e-19 1.82017637e-07 1.94677973e-01\n",
      " 5.78377097e-07 2.31550944e-05 2.17866875e-09 4.98049456e-24\n",
      " 2.48201787e-22 1.07831304e-17]\n"
     ]
    },
    {
     "name": "stderr",
     "output_type": "stream",
     "text": [
      "C:\\Users\\harsh\\.conda\\lib\\site-packages\\sklearn\\base.py:450: UserWarning: X does not have valid feature names, but StandardScaler was fitted with feature names\n",
      "  warnings.warn(\n",
      "C:\\Users\\harsh\\.conda\\lib\\site-packages\\sklearn\\base.py:450: UserWarning: X does not have valid feature names, but StandardScaler was fitted with feature names\n",
      "  warnings.warn(\n"
     ]
    },
    {
     "name": "stdout",
     "output_type": "stream",
     "text": [
      "MEN WALKING [1.00894940e-01 1.11461673e-20 3.17784425e-05 5.08826028e-01\n",
      " 1.39407219e-04 3.90107827e-01 1.95883844e-08 2.17880718e-23\n",
      " 9.94664298e-22 8.40995491e-19]\n"
     ]
    }
   ],
   "source": [
    "vid_cap = cv2.VideoCapture(0)\n",
    "#add=\"http://141.215.199.212:8080/video\"\n",
    "#vid_cap.open(add)\n",
    "\n",
    "# intialize holistic model\n",
    "with mp_holistic.Holistic(min_detection_confidence=0.5, min_tracking_confidence=0.5) as holistic:\n",
    "    \n",
    "    while vid_cap.isOpened():\n",
    "        ret, frame = vid_cap.read()\n",
    "    # Recoloring our video from BGR to RGB\n",
    "        img =cv2.cvtColor(frame,cv2.COLOR_BGR2RGB)\n",
    "        img.flags.writeable=False\n",
    "    \n",
    "    #now time for detections\n",
    "        results= holistic.process(img)\n",
    "    \n",
    "    #Recolor image from RGB to BGR for rendering\n",
    "        img.flags.writeable=True\n",
    "        img =cv2.cvtColor(img,cv2.COLOR_RGB2BGR)\n",
    "        \n",
    "         #Render pose_connections\n",
    "        mp_drawing.draw_landmarks(img,results.pose_landmarks,mp_holistic.POSE_CONNECTIONS)\n",
    "        \n",
    "        # Face_landmarks\n",
    "        \n",
    "        mp_drawing.draw_landmarks(img, results.face_landmarks, mp_holistic.FACEMESH_TESSELATION,\n",
    "                                 mp_drawing.DrawingSpec(color=(80,80,80), thickness=1, circle_radius=1),\n",
    "                                 mp_drawing.DrawingSpec(color=(80,80,80), thickness=1, circle_radius=1)\n",
    "                                 )\n",
    "        # left_hand_connections\n",
    "        \n",
    "        mp_drawing.draw_landmarks(img,results.left_hand_landmarks,mp_holistic.HAND_CONNECTIONS)\n",
    "        \n",
    "        # right_hand_connections\n",
    "        \n",
    "        mp_drawing.draw_landmarks(img,results.right_hand_landmarks,mp_holistic.HAND_CONNECTIONS)\n",
    "        # export landmark cordinates\n",
    "        # we write our code in try block so that we can handle any errors occured\n",
    "        try:\n",
    "            pose=results.pose_landmarks.landmark #store all results in pose variable\n",
    "            pose_row= list(np.array([[landmark.x,landmark.y,landmark.z,landmark.visibility]for landmark in pose]).flatten())\n",
    "            #we used list comprehension we are looping through each landmark in pose and storing the values in array which is named \n",
    "            #as pose_row and we flatten the vlaues so higher dimensions will get reduced to single dimension\n",
    "        \n",
    "            face=results.face_landmarks.landmark\n",
    "            face_row= list(np.array([[landmark.x,landmark.y,landmark.z,landmark.visibility]for landmark in face]).flatten())\n",
    "            \n",
    "            # then we will combine pose_row and face_row into one big row\n",
    "            big_row=pose_row+face_row\n",
    "            # Append pose_name to big_row\n",
    " #           big_row.insert(0,pose_name)\n",
    "            # export the data into csv\n",
    "            \n",
    " #           with open('pose_classification.csv',mode='a',newline='') as myfile:\n",
    "  #              csv_write= csv.writer(myfile, delimiter=',', quotechar='\"', quoting=csv.QUOTE_MINIMAL)\n",
    "   #             csv_write.writerow(big_row)\n",
    "             # Make Detections\n",
    "            x = pd.DataFrame([big_row])\n",
    "            body_language_class = model.predict(x)[0]\n",
    "            body_language_prob = model.predict_proba(x)[0]\n",
    "            print(body_language_class, body_language_prob)\n",
    "            \n",
    "            \n",
    "            # Grab ear coords\n",
    "            coords = tuple(np.multiply(\n",
    "                            np.array(\n",
    "                                (results.pose_landmarks.landmark[mp_holistic.PoseLandmark.LEFT_EAR].x, \n",
    "                                 results.pose_landmarks.landmark[mp_holistic.PoseLandmark.LEFT_EAR].y))\n",
    "                        , [640,480]).astype(int))\n",
    "            \n",
    "            cv2.rectangle(img, \n",
    "                          (coords[0], coords[1]+5), \n",
    "                          (coords[0]+len(body_language_class)*20, coords[1]-30), \n",
    "                          (245, 117, 16), -1)\n",
    "            cv2.putText(img, body_language_class, coords, \n",
    "                        cv2.FONT_HERSHEY_SIMPLEX, 1, (255, 255, 255), 2, cv2.LINE_AA)\n",
    "            \n",
    "            # Get status box\n",
    "            cv2.rectangle(img, (0,0), (250, 60), (245, 117, 16), -1)\n",
    "            \n",
    "            # Display Class\n",
    "            cv2.putText(img, 'POSE'\n",
    "                        , (95,12), cv2.FONT_HERSHEY_SIMPLEX, 0.5, (0, 0, 0), 1, cv2.LINE_AA)\n",
    "            cv2.putText(img, body_language_class.split(' ')[0]\n",
    "                        , (90,40), cv2.FONT_HERSHEY_SIMPLEX, 1, (255, 255, 255), 2, cv2.LINE_AA)\n",
    "            \n",
    "            # Display Probability\n",
    "            cv2.putText(img, 'PROB'\n",
    "                        , (15,12), cv2.FONT_HERSHEY_SIMPLEX, 0.5, (0, 0, 0), 1, cv2.LINE_AA)\n",
    "            cv2.putText(img, str(round(body_language_prob[np.argmax(body_language_prob)],2))\n",
    "                        , (10,40), cv2.FONT_HERSHEY_SIMPLEX, 1, (255, 255, 255), 2, cv2.LINE_AA)\n",
    "            \n",
    "        \n",
    "                \n",
    "            \n",
    "            \n",
    "            \n",
    "            \n",
    "        except:\n",
    "            pass\n",
    "         # Full screen video\n",
    "        cv2.namedWindow(\"POSE CLASSIFICATION\", cv2.WND_PROP_FULLSCREEN)\n",
    "        cv2.setWindowProperty(\"POSE CLASSIFICATION\",cv2.WND_PROP_FULLSCREEN,\n",
    "               cv2.WINDOW_FULLSCREEN)\n",
    "    \n",
    "    \n",
    "        cv2.imshow('POSE CLASSIFICATION', img)\n",
    "    \n",
    "        if cv2.waitKey(10) & 0xFF == ord('v'):\n",
    "            break\n",
    "vid_cap.release()\n",
    "cv2.destroyAllWindows()"
   ]
  },
  {
   "cell_type": "code",
   "execution_count": null,
   "metadata": {},
   "outputs": [],
   "source": []
  },
  {
   "cell_type": "code",
   "execution_count": null,
   "metadata": {},
   "outputs": [],
   "source": []
  }
 ],
 "metadata": {
  "kernelspec": {
   "display_name": "Python 3 (ipykernel)",
   "language": "python",
   "name": "python3"
  },
  "language_info": {
   "codemirror_mode": {
    "name": "ipython",
    "version": 3
   },
   "file_extension": ".py",
   "mimetype": "text/x-python",
   "name": "python",
   "nbconvert_exporter": "python",
   "pygments_lexer": "ipython3",
   "version": "3.9.12"
  }
 },
 "nbformat": 4,
 "nbformat_minor": 2
}
